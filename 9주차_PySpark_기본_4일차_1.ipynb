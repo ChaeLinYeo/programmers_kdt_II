{
  "nbformat": 4,
  "nbformat_minor": 0,
  "metadata": {
    "colab": {
      "name": "9주차_PySpark_기본_4일차_1.ipynb",
      "provenance": [],
      "collapsed_sections": []
    },
    "kernelspec": {
      "name": "python3",
      "display_name": "Python 3"
    }
  },
  "cells": [
    {
      "cell_type": "markdown",
      "metadata": {
        "id": "view-in-github"
      },
      "source": [
        "<a href=\"https://colab.research.google.com/github/learn-programmers/programmers_kdt_II/blob/main/9%EC%A3%BC%EC%B0%A8_PySpark_%EA%B8%B0%EB%B3%B8_4%EC%9D%BC%EC%B0%A8_1.ipynb\" target=\"_parent\"><img src=\"https://colab.research.google.com/assets/colab-badge.svg\" alt=\"Open In Colab\"/></a>"
      ]
    },
    {
      "cell_type": "markdown",
      "metadata": {
        "id": "xAqhTDfuWrcM"
      },
      "source": [
        "PySpark을 로컬머신에 설치하고 노트북을 사용하기 보다는 머신러닝 관련 다양한 라이브러리가 이미 설치되었고 좋은 하드웨어를 제공해주는 Google Colab을 통해 실습을 진행한다."
      ]
    },
    {
      "cell_type": "markdown",
      "metadata": {
        "id": "XIA23YgbXKJd"
      },
      "source": [
        "이를 위해 pyspark과 Py4J 패키지를 설치한다. Py4J 패키지는 파이썬 프로그램이 자바가상머신상의 오브젝트들을 접근할 수 있게 해준다. Local Standalone Spark을 사용한다."
      ]
    },
    {
      "cell_type": "code",
      "metadata": {
        "colab": {
          "base_uri": "https://localhost:8080/"
        },
        "id": "NbT0rpGfVdiq",
        "outputId": "26e85130-3f03-4473-a672-47b325c5b654"
      },
      "source": [
        "!pip install pyspark==3.0.1 py4j==0.10.9 "
      ],
      "execution_count": 1,
      "outputs": [
        {
          "output_type": "stream",
          "text": [
            "Collecting pyspark==3.0.1\n",
            "\u001b[?25l  Downloading https://files.pythonhosted.org/packages/f0/26/198fc8c0b98580f617cb03cb298c6056587b8f0447e20fa40c5b634ced77/pyspark-3.0.1.tar.gz (204.2MB)\n",
            "\u001b[K     |████████████████████████████████| 204.2MB 84kB/s \n",
            "\u001b[?25hCollecting py4j==0.10.9\n",
            "\u001b[?25l  Downloading https://files.pythonhosted.org/packages/9e/b6/6a4fb90cd235dc8e265a6a2067f2a2c99f0d91787f06aca4bcf7c23f3f80/py4j-0.10.9-py2.py3-none-any.whl (198kB)\n",
            "\u001b[K     |████████████████████████████████| 204kB 65.3MB/s \n",
            "\u001b[?25hBuilding wheels for collected packages: pyspark\n",
            "  Building wheel for pyspark (setup.py) ... \u001b[?25l\u001b[?25hdone\n",
            "  Created wheel for pyspark: filename=pyspark-3.0.1-py2.py3-none-any.whl size=204612242 sha256=5a969b07b1e5d19d91947ac8319c79825d894b5ea43a24251ff11d916c9c55ca\n",
            "  Stored in directory: /root/.cache/pip/wheels/5e/bd/07/031766ca628adec8435bb40f0bd83bb676ce65ff4007f8e73f\n",
            "Successfully built pyspark\n",
            "Installing collected packages: py4j, pyspark\n",
            "Successfully installed py4j-0.10.9 pyspark-3.0.1\n"
          ],
          "name": "stdout"
        }
      ]
    },
    {
      "cell_type": "code",
      "metadata": {
        "id": "3vm6tgcPXdnR"
      },
      "source": [
        "from pyspark.sql import SparkSession\n",
        "\n",
        "spark = SparkSession \\\n",
        "    .builder \\\n",
        "    .appName(\"Boston Housing Linear Regression example\") \\\n",
        "    .getOrCreate()"
      ],
      "execution_count": 2,
      "outputs": []
    },
    {
      "cell_type": "markdown",
      "metadata": {
        "id": "pyl0gES0KhkF"
      },
      "source": [
        "# 보스턴 주택 가격 예측 모델 만들기\n",
        "\n",
        "\n"
      ]
    },
    {
      "cell_type": "code",
      "metadata": {
        "colab": {
          "base_uri": "https://localhost:8080/",
          "height": 222
        },
        "id": "LSs_1PYaYWxI",
        "outputId": "5c4f9630-9986-4b53-d405-4d6f7b2cd6c9"
      },
      "source": [
        "spark"
      ],
      "execution_count": 3,
      "outputs": [
        {
          "output_type": "execute_result",
          "data": {
            "text/html": [
              "\n",
              "            <div>\n",
              "                <p><b>SparkSession - in-memory</b></p>\n",
              "                \n",
              "        <div>\n",
              "            <p><b>SparkContext</b></p>\n",
              "\n",
              "            <p><a href=\"http://5a8d5ff03fdf:4040\">Spark UI</a></p>\n",
              "\n",
              "            <dl>\n",
              "              <dt>Version</dt>\n",
              "                <dd><code>v3.0.1</code></dd>\n",
              "              <dt>Master</dt>\n",
              "                <dd><code>local[*]</code></dd>\n",
              "              <dt>AppName</dt>\n",
              "                <dd><code>Boston Housing Linear Regression example</code></dd>\n",
              "            </dl>\n",
              "        </div>\n",
              "        \n",
              "            </div>\n",
              "        "
            ],
            "text/plain": [
              "<pyspark.sql.session.SparkSession at 0x7f69fb254668>"
            ]
          },
          "metadata": {
            "tags": []
          },
          "execution_count": 3
        }
      ]
    },
    {
      "cell_type": "code",
      "metadata": {
        "id": "vE8iL4vy6705",
        "colab": {
          "base_uri": "https://localhost:8080/"
        },
        "outputId": "f9dab8f6-bd32-4c0e-bc4f-b310559936d9"
      },
      "source": [
        "# training set 다운받기\n",
        "!wget https://s3-geospatial.s3-us-west-2.amazonaws.com/boston_housing.csv"
      ],
      "execution_count": 4,
      "outputs": [
        {
          "output_type": "stream",
          "text": [
            "--2021-02-04 16:57:40--  https://s3-geospatial.s3-us-west-2.amazonaws.com/boston_housing.csv\n",
            "Resolving s3-geospatial.s3-us-west-2.amazonaws.com (s3-geospatial.s3-us-west-2.amazonaws.com)... 52.218.218.105\n",
            "Connecting to s3-geospatial.s3-us-west-2.amazonaws.com (s3-geospatial.s3-us-west-2.amazonaws.com)|52.218.218.105|:443... connected.\n",
            "HTTP request sent, awaiting response... 200 OK\n",
            "Length: 36240 (35K) [text/csv]\n",
            "Saving to: ‘boston_housing.csv’\n",
            "\n",
            "boston_housing.csv  100%[===================>]  35.39K   222KB/s    in 0.2s    \n",
            "\n",
            "2021-02-04 16:57:41 (222 KB/s) - ‘boston_housing.csv’ saved [36240/36240]\n",
            "\n"
          ],
          "name": "stdout"
        }
      ]
    },
    {
      "cell_type": "code",
      "metadata": {
        "colab": {
          "base_uri": "https://localhost:8080/"
        },
        "id": "GfSzc03fOC6e",
        "outputId": "fbe6e7b5-b991-46db-89df-36106642e0da"
      },
      "source": [
        "!ls -tl"
      ],
      "execution_count": 5,
      "outputs": [
        {
          "output_type": "stream",
          "text": [
            "total 40\n",
            "drwxr-xr-x 1 root root  4096 Feb  1 17:27 sample_data\n",
            "-rw-r--r-- 1 root root 36240 Jan 31 01:46 boston_housing.csv\n"
          ],
          "name": "stdout"
        }
      ]
    },
    {
      "cell_type": "code",
      "metadata": {
        "id": "-mH3roiKIOix"
      },
      "source": [
        "# csv파일을 데이터프레임으로 만들기\n",
        "data = spark.read.csv('./boston_housing.csv', header=True, inferSchema=True)"
      ],
      "execution_count": 8,
      "outputs": []
    },
    {
      "cell_type": "code",
      "metadata": {
        "colab": {
          "base_uri": "https://localhost:8080/"
        },
        "id": "SCty0kw6ITVi",
        "outputId": "1a6c47b2-3fcc-4dcc-fb95-6d88610b63b6"
      },
      "source": [
        "data.printSchema() # 스키마(구조) 출력하기\n",
        "# 마지막 medv가 우리가 예측할 주택의 중간값"
      ],
      "execution_count": 9,
      "outputs": [
        {
          "output_type": "stream",
          "text": [
            "root\n",
            " |-- crim: double (nullable = true)\n",
            " |-- zn: double (nullable = true)\n",
            " |-- indus: double (nullable = true)\n",
            " |-- chas: integer (nullable = true)\n",
            " |-- nox: double (nullable = true)\n",
            " |-- rm: double (nullable = true)\n",
            " |-- age: double (nullable = true)\n",
            " |-- dis: double (nullable = true)\n",
            " |-- rad: integer (nullable = true)\n",
            " |-- tax: integer (nullable = true)\n",
            " |-- ptratio: double (nullable = true)\n",
            " |-- b: double (nullable = true)\n",
            " |-- lstat: double (nullable = true)\n",
            " |-- medv: double (nullable = true)\n",
            "\n"
          ],
          "name": "stdout"
        }
      ]
    },
    {
      "cell_type": "code",
      "metadata": {
        "colab": {
          "base_uri": "https://localhost:8080/"
        },
        "id": "nrlYYyVfIV1e",
        "outputId": "3039d320-5773-44f4-b01b-2cbb83c94084"
      },
      "source": [
        "data.show() # 앞의 20개 출력"
      ],
      "execution_count": 10,
      "outputs": [
        {
          "output_type": "stream",
          "text": [
            "+-------+----+-----+----+-----+-----+-----+------+---+---+-------+------+-----+----+\n",
            "|   crim|  zn|indus|chas|  nox|   rm|  age|   dis|rad|tax|ptratio|     b|lstat|medv|\n",
            "+-------+----+-----+----+-----+-----+-----+------+---+---+-------+------+-----+----+\n",
            "|0.00632|18.0| 2.31|   0|0.538|6.575| 65.2|  4.09|  1|296|   15.3| 396.9| 4.98|24.0|\n",
            "|0.02731| 0.0| 7.07|   0|0.469|6.421| 78.9|4.9671|  2|242|   17.8| 396.9| 9.14|21.6|\n",
            "|0.02729| 0.0| 7.07|   0|0.469|7.185| 61.1|4.9671|  2|242|   17.8|392.83| 4.03|34.7|\n",
            "|0.03237| 0.0| 2.18|   0|0.458|6.998| 45.8|6.0622|  3|222|   18.7|394.63| 2.94|33.4|\n",
            "|0.06905| 0.0| 2.18|   0|0.458|7.147| 54.2|6.0622|  3|222|   18.7| 396.9| 5.33|36.2|\n",
            "|0.02985| 0.0| 2.18|   0|0.458| 6.43| 58.7|6.0622|  3|222|   18.7|394.12| 5.21|28.7|\n",
            "|0.08829|12.5| 7.87|   0|0.524|6.012| 66.6|5.5605|  5|311|   15.2| 395.6|12.43|22.9|\n",
            "|0.14455|12.5| 7.87|   0|0.524|6.172| 96.1|5.9505|  5|311|   15.2| 396.9|19.15|27.1|\n",
            "|0.21124|12.5| 7.87|   0|0.524|5.631|100.0|6.0821|  5|311|   15.2|386.63|29.93|16.5|\n",
            "|0.17004|12.5| 7.87|   0|0.524|6.004| 85.9|6.5921|  5|311|   15.2|386.71| 17.1|18.9|\n",
            "|0.22489|12.5| 7.87|   0|0.524|6.377| 94.3|6.3467|  5|311|   15.2|392.52|20.45|15.0|\n",
            "|0.11747|12.5| 7.87|   0|0.524|6.009| 82.9|6.2267|  5|311|   15.2| 396.9|13.27|18.9|\n",
            "|0.09378|12.5| 7.87|   0|0.524|5.889| 39.0|5.4509|  5|311|   15.2| 390.5|15.71|21.7|\n",
            "|0.62976| 0.0| 8.14|   0|0.538|5.949| 61.8|4.7075|  4|307|   21.0| 396.9| 8.26|20.4|\n",
            "|0.63796| 0.0| 8.14|   0|0.538|6.096| 84.5|4.4619|  4|307|   21.0|380.02|10.26|18.2|\n",
            "|0.62739| 0.0| 8.14|   0|0.538|5.834| 56.5|4.4986|  4|307|   21.0|395.62| 8.47|19.9|\n",
            "|1.05393| 0.0| 8.14|   0|0.538|5.935| 29.3|4.4986|  4|307|   21.0|386.85| 6.58|23.1|\n",
            "| 0.7842| 0.0| 8.14|   0|0.538| 5.99| 81.7|4.2579|  4|307|   21.0|386.75|14.67|17.5|\n",
            "|0.80271| 0.0| 8.14|   0|0.538|5.456| 36.6|3.7965|  4|307|   21.0|288.99|11.69|20.2|\n",
            "| 0.7258| 0.0| 8.14|   0|0.538|5.727| 69.5|3.7965|  4|307|   21.0|390.95|11.28|18.2|\n",
            "+-------+----+-----+----+-----+-----+-----+------+---+---+-------+------+-----+----+\n",
            "only showing top 20 rows\n",
            "\n"
          ],
          "name": "stdout"
        }
      ]
    },
    {
      "cell_type": "markdown",
      "metadata": {
        "id": "cGMk-ULmLcVM"
      },
      "source": [
        "## 피쳐 벡터를 만들기"
      ]
    },
    {
      "cell_type": "code",
      "metadata": {
        "id": "vBYWOVQYIXEt"
      },
      "source": [
        "from pyspark.ml.feature import VectorAssembler\n",
        "# 피쳐를 합쳐주기 위한 VectorAssembler를 임포트한다.\n",
        "\n",
        "# feature columns는 data의 컬럼에서 마지막 값(medv, 즉 우리가 예측할 값)을 뺀 나머지 저장\n",
        "feature_columns = data.columns[:-1] \n",
        "\n",
        "# VectorAssembler를 사용해 input이 되는 컬럼들(feature_columns)을 묶어서 새로운 컬럼으로 만들고 \"features\"로 이름을 정한다.\n",
        "# 칼럼들을 묶어서 하나의 벡터로 만들고 벡터의 칼럼 이름을 feature로 해주는 assembler라는 오브젝트를 만든 것이다.\n",
        "# 실제로 입력데이터 프레임에 적용하기 전에 그 일을 해줄 오브젝트를 만든 것이다.\n",
        "assembler = VectorAssembler(inputCols=feature_columns, outputCol=\"features\")"
      ],
      "execution_count": 13,
      "outputs": []
    },
    {
      "cell_type": "code",
      "metadata": {
        "colab": {
          "base_uri": "https://localhost:8080/"
        },
        "id": "SAkNEWkhO9Vk",
        "outputId": "c261e036-2dfd-46ca-9938-846c5abf3bdd"
      },
      "source": [
        "feature_columns # 예측할 값 medv를 뺀 나머지 13개의 피쳐들이 잘 들어가 있다."
      ],
      "execution_count": 12,
      "outputs": [
        {
          "output_type": "execute_result",
          "data": {
            "text/plain": [
              "['crim',\n",
              " 'zn',\n",
              " 'indus',\n",
              " 'chas',\n",
              " 'nox',\n",
              " 'rm',\n",
              " 'age',\n",
              " 'dis',\n",
              " 'rad',\n",
              " 'tax',\n",
              " 'ptratio',\n",
              " 'b',\n",
              " 'lstat']"
            ]
          },
          "metadata": {
            "tags": []
          },
          "execution_count": 12
        }
      ]
    },
    {
      "cell_type": "code",
      "metadata": {
        "id": "8J0_WrOYIqA0"
      },
      "source": [
        "# 실제 적용은 위에서 만든 어셈블러를 사용한다.\n",
        "# transform함수를 적용해 입력으로 데이터프레임 data를 주면 출력으로 또다른 데이터프레임이 만들어진다.\n",
        "# 위에서 만든 assembler의 특성상 새로운 컬럼이 하나 더 생기는 것이다.\n",
        "# features라는 컬럼에는 벡터 어셈블러의 동작 때문에 지정된 인풋 컬럼들이 하나의 벡터로 묶여서 features라는 하나의 컬럼으로 들어간다.\n",
        "# transform은 하나의 데이터프레임을 입력으로 받아서 새로운 컬럼을 추가해주는 기능을 한다.\n",
        "# VectorAssembler는 트랜스포머의 하나로, 지정된 컬럼들을 모아서 새로운 벡터 컬럼을 만드는 일을 한다. \n",
        "# 트랜스포머를 만들고 -> transform을 적용하고 인풋으로 데이터프레임을 주는게 기본 형식이다.\n",
        "data_2 = assembler.transform(data)"
      ],
      "execution_count": 14,
      "outputs": []
    },
    {
      "cell_type": "code",
      "metadata": {
        "colab": {
          "base_uri": "https://localhost:8080/"
        },
        "id": "e0WZHfxmIuxr",
        "outputId": "0f8eec39-3d8e-42ce-f382-fb8c5fb8d2fc"
      },
      "source": [
        "data_2.show()\n",
        "# features라는 새로운 컬럼이 끝에 추가된 것을 볼 수 있다.\n",
        "# 이 컬럼은 벡터의 형식임을 알 수 있다. \n",
        "# 앞의 13개의 모든 컬럼의 값들이 벡터 안에 들어간 것을 볼 수 있다."
      ],
      "execution_count": 15,
      "outputs": [
        {
          "output_type": "stream",
          "text": [
            "+-------+----+-----+----+-----+-----+-----+------+---+---+-------+------+-----+----+--------------------+\n",
            "|   crim|  zn|indus|chas|  nox|   rm|  age|   dis|rad|tax|ptratio|     b|lstat|medv|            features|\n",
            "+-------+----+-----+----+-----+-----+-----+------+---+---+-------+------+-----+----+--------------------+\n",
            "|0.00632|18.0| 2.31|   0|0.538|6.575| 65.2|  4.09|  1|296|   15.3| 396.9| 4.98|24.0|[0.00632,18.0,2.3...|\n",
            "|0.02731| 0.0| 7.07|   0|0.469|6.421| 78.9|4.9671|  2|242|   17.8| 396.9| 9.14|21.6|[0.02731,0.0,7.07...|\n",
            "|0.02729| 0.0| 7.07|   0|0.469|7.185| 61.1|4.9671|  2|242|   17.8|392.83| 4.03|34.7|[0.02729,0.0,7.07...|\n",
            "|0.03237| 0.0| 2.18|   0|0.458|6.998| 45.8|6.0622|  3|222|   18.7|394.63| 2.94|33.4|[0.03237,0.0,2.18...|\n",
            "|0.06905| 0.0| 2.18|   0|0.458|7.147| 54.2|6.0622|  3|222|   18.7| 396.9| 5.33|36.2|[0.06905,0.0,2.18...|\n",
            "|0.02985| 0.0| 2.18|   0|0.458| 6.43| 58.7|6.0622|  3|222|   18.7|394.12| 5.21|28.7|[0.02985,0.0,2.18...|\n",
            "|0.08829|12.5| 7.87|   0|0.524|6.012| 66.6|5.5605|  5|311|   15.2| 395.6|12.43|22.9|[0.08829,12.5,7.8...|\n",
            "|0.14455|12.5| 7.87|   0|0.524|6.172| 96.1|5.9505|  5|311|   15.2| 396.9|19.15|27.1|[0.14455,12.5,7.8...|\n",
            "|0.21124|12.5| 7.87|   0|0.524|5.631|100.0|6.0821|  5|311|   15.2|386.63|29.93|16.5|[0.21124,12.5,7.8...|\n",
            "|0.17004|12.5| 7.87|   0|0.524|6.004| 85.9|6.5921|  5|311|   15.2|386.71| 17.1|18.9|[0.17004,12.5,7.8...|\n",
            "|0.22489|12.5| 7.87|   0|0.524|6.377| 94.3|6.3467|  5|311|   15.2|392.52|20.45|15.0|[0.22489,12.5,7.8...|\n",
            "|0.11747|12.5| 7.87|   0|0.524|6.009| 82.9|6.2267|  5|311|   15.2| 396.9|13.27|18.9|[0.11747,12.5,7.8...|\n",
            "|0.09378|12.5| 7.87|   0|0.524|5.889| 39.0|5.4509|  5|311|   15.2| 390.5|15.71|21.7|[0.09378,12.5,7.8...|\n",
            "|0.62976| 0.0| 8.14|   0|0.538|5.949| 61.8|4.7075|  4|307|   21.0| 396.9| 8.26|20.4|[0.62976,0.0,8.14...|\n",
            "|0.63796| 0.0| 8.14|   0|0.538|6.096| 84.5|4.4619|  4|307|   21.0|380.02|10.26|18.2|[0.63796,0.0,8.14...|\n",
            "|0.62739| 0.0| 8.14|   0|0.538|5.834| 56.5|4.4986|  4|307|   21.0|395.62| 8.47|19.9|[0.62739,0.0,8.14...|\n",
            "|1.05393| 0.0| 8.14|   0|0.538|5.935| 29.3|4.4986|  4|307|   21.0|386.85| 6.58|23.1|[1.05393,0.0,8.14...|\n",
            "| 0.7842| 0.0| 8.14|   0|0.538| 5.99| 81.7|4.2579|  4|307|   21.0|386.75|14.67|17.5|[0.7842,0.0,8.14,...|\n",
            "|0.80271| 0.0| 8.14|   0|0.538|5.456| 36.6|3.7965|  4|307|   21.0|288.99|11.69|20.2|[0.80271,0.0,8.14...|\n",
            "| 0.7258| 0.0| 8.14|   0|0.538|5.727| 69.5|3.7965|  4|307|   21.0|390.95|11.28|18.2|[0.7258,0.0,8.14,...|\n",
            "+-------+----+-----+----+-----+-----+-----+------+---+---+-------+------+-----+----+--------------------+\n",
            "only showing top 20 rows\n",
            "\n"
          ],
          "name": "stdout"
        }
      ]
    },
    {
      "cell_type": "markdown",
      "metadata": {
        "id": "6kK7gG2JLjy_"
      },
      "source": [
        "## 훈련용과 테스트용 데이터를 나누고 Linear Regression 모델을 하나 만든다"
      ]
    },
    {
      "cell_type": "code",
      "metadata": {
        "id": "OEmZtDfzIyvc"
      },
      "source": [
        "# 70%는 훈련셋, 30%는 테스트셋\n",
        "train, test = data_2.randomSplit([0.7, 0.3])"
      ],
      "execution_count": 16,
      "outputs": []
    },
    {
      "cell_type": "code",
      "metadata": {
        "id": "I757fFLyO4aZ"
      },
      "source": [
        "from pyspark.ml.regression import LinearRegression\n",
        "\n",
        "# 피쳐칼럼을 여러개를 줄 필요 없이 위에서 13가지를 하나로 합친 features 전달 \n",
        "# 예측해야 할 레이블 값 LabelCol은 medv 전달\n",
        "# 즉 features, medv의 두개의 필드만 사용\n",
        "algo = LinearRegression(featuresCol=\"features\", labelCol=\"medv\")\n",
        "\n",
        "# fit으로 훈련. 위에서 나눈 훈련셋을 인자로 전달\n",
        "model = algo.fit(train)\n",
        "# 모델 완성!"
      ],
      "execution_count": 18,
      "outputs": []
    },
    {
      "cell_type": "markdown",
      "metadata": {
        "id": "ELSupsQVLFK-"
      },
      "source": [
        "## 모델 성능 측정"
      ]
    },
    {
      "cell_type": "code",
      "metadata": {
        "id": "LDzlKgOTJkTJ"
      },
      "source": [
        "evaluation_summary = model.evaluate(test)\n",
        "# 모델 평가는 위에서 만든 테스트셋 데이터프레임 전달해서!\n",
        "# 결과가 evaluation_summary라는 새로운 데이터프레임에 저장"
      ],
      "execution_count": 19,
      "outputs": []
    },
    {
      "cell_type": "code",
      "metadata": {
        "colab": {
          "base_uri": "https://localhost:8080/"
        },
        "id": "02BIJYu4JnNJ",
        "outputId": "bd63df2f-4a1a-4a99-85c5-75b941b5d42c"
      },
      "source": [
        "evaluation_summary # 데이터프레임"
      ],
      "execution_count": 20,
      "outputs": [
        {
          "output_type": "execute_result",
          "data": {
            "text/plain": [
              "<pyspark.ml.regression.LinearRegressionSummary at 0x7f69f88747f0>"
            ]
          },
          "metadata": {
            "tags": []
          },
          "execution_count": 20
        }
      ]
    },
    {
      "cell_type": "code",
      "metadata": {
        "colab": {
          "base_uri": "https://localhost:8080/"
        },
        "id": "GDSM4ZAeJrFa",
        "outputId": "fa7e4fc0-1a1e-4304-8f99-7f07a1b76df3"
      },
      "source": [
        "# 모델의 성능을 평가하기 위해서는 실제값-예측값을 알아야 한다.\n",
        "# 다음의 평가방법 결과들이 작아져야 한다.\n",
        "# 평가방법1\n",
        "evaluation_summary.meanAbsoluteError"
      ],
      "execution_count": 21,
      "outputs": [
        {
          "output_type": "execute_result",
          "data": {
            "text/plain": [
              "3.200548882491588"
            ]
          },
          "metadata": {
            "tags": []
          },
          "execution_count": 21
        }
      ]
    },
    {
      "cell_type": "code",
      "metadata": {
        "colab": {
          "base_uri": "https://localhost:8080/"
        },
        "id": "idZshiJqJuOl",
        "outputId": "c0c7879e-b8f2-48d4-ddc2-de0996fc1aa0"
      },
      "source": [
        "# 평가방법2\n",
        "evaluation_summary.rootMeanSquaredError"
      ],
      "execution_count": 22,
      "outputs": [
        {
          "output_type": "execute_result",
          "data": {
            "text/plain": [
              "4.367919893214391"
            ]
          },
          "metadata": {
            "tags": []
          },
          "execution_count": 22
        }
      ]
    },
    {
      "cell_type": "code",
      "metadata": {
        "colab": {
          "base_uri": "https://localhost:8080/"
        },
        "id": "3VnnpJqYJx0d",
        "outputId": "98e7a2cc-8dfd-4621-dbc5-1fd1bae76f8f"
      },
      "source": [
        "# 평가방법3\n",
        "evaluation_summary.r2"
      ],
      "execution_count": 23,
      "outputs": [
        {
          "output_type": "execute_result",
          "data": {
            "text/plain": [
              "0.769243296713928"
            ]
          },
          "metadata": {
            "tags": []
          },
          "execution_count": 23
        }
      ]
    },
    {
      "cell_type": "markdown",
      "metadata": {
        "id": "k1V_bYQmLKy2"
      },
      "source": [
        "## 모델 예측값 살펴보기 "
      ]
    },
    {
      "cell_type": "code",
      "metadata": {
        "id": "1pegKAalJz4n"
      },
      "source": [
        "# 모델에 transform 적용하여 model에 test에 대하여 예측해 predictions라는 새로운 데이터프레임에 저장\n",
        "predictions = model.transform(test)"
      ],
      "execution_count": 31,
      "outputs": []
    },
    {
      "cell_type": "code",
      "metadata": {
        "colab": {
          "base_uri": "https://localhost:8080/"
        },
        "id": "8kpfjtXJRVus",
        "outputId": "73727a5a-9ff7-4435-a69c-a89e9b37fbd7"
      },
      "source": [
        "predictions.show()\n",
        "# 마지막 에 prediction이라는 새로운 칼럼이 생김."
      ],
      "execution_count": 30,
      "outputs": [
        {
          "output_type": "stream",
          "text": [
            "+-------+-----+-----+----+------+-----+----+-------+---+---+-------+------+-----+----+--------------------+------------------+\n",
            "|   crim|   zn|indus|chas|   nox|   rm| age|    dis|rad|tax|ptratio|     b|lstat|medv|            features|        prediction|\n",
            "+-------+-----+-----+----+------+-----+----+-------+---+---+-------+------+-----+----+--------------------+------------------+\n",
            "|0.00632| 18.0| 2.31|   0| 0.538|6.575|65.2|   4.09|  1|296|   15.3| 396.9| 4.98|24.0|[0.00632,18.0,2.3...|29.876145971194745|\n",
            "|0.01096| 55.0| 2.25|   0| 0.389|6.453|31.9| 7.3073|  1|300|   15.3|394.72| 8.23|22.0|[0.01096,55.0,2.2...|26.874994981061604|\n",
            "|0.01301| 35.0| 1.52|   0| 0.442|7.241|49.3| 7.0379|  1|284|   15.5|394.74| 5.49|32.7|[0.01301,35.0,1.5...|29.487136058357375|\n",
            "| 0.0136| 75.0|  4.0|   0|  0.41|5.888|47.6| 7.3197|  3|469|   21.1| 396.9| 14.8|18.9|[0.0136,75.0,4.0,...|15.481950096517203|\n",
            "|0.01381| 80.0| 0.46|   0| 0.422|7.875|32.0| 5.6484|  4|255|   14.4|394.23| 2.97|50.0|[0.01381,80.0,0.4...| 39.96820478505988|\n",
            "|0.01432|100.0| 1.32|   0| 0.411|6.816|40.5| 8.3248|  5|256|   15.1| 392.9| 3.95|31.6|[0.01432,100.0,1....|32.902087640882456|\n",
            "|0.01501| 90.0| 1.21|   1| 0.401|7.923|24.8|  5.885|  1|198|   13.6|395.52| 3.16|50.0|[0.01501,90.0,1.2...| 43.48607575182313|\n",
            "|0.01709| 90.0| 2.02|   0|  0.41|6.728|36.1|12.1265|  5|187|   17.0|384.46|  4.5|30.1|[0.01709,90.0,2.0...|24.942467233880706|\n",
            "|0.01778| 95.0| 1.47|   0| 0.403|7.135|13.9| 7.6534|  3|402|   17.0| 384.3| 4.45|32.9|[0.01778,95.0,1.4...| 29.92176803476908|\n",
            "|0.02009| 95.0| 2.68|   0|0.4161|8.034|31.9|  5.118|  4|224|   14.7|390.55| 2.88|50.0|[0.02009,95.0,2.6...| 42.39182156849719|\n",
            "|0.02055| 85.0| 0.74|   0|  0.41|6.383|35.7| 9.1876|  2|313|   17.3| 396.9| 5.77|24.7|[0.02055,85.0,0.7...|24.661359964448067|\n",
            "|0.02543| 55.0| 3.78|   0| 0.484|6.696|56.4| 5.7321|  5|370|   17.6| 396.9| 7.18|23.9|[0.02543,55.0,3.7...|27.612973899267484|\n",
            "|0.02729|  0.0| 7.07|   0| 0.469|7.185|61.1| 4.9671|  2|242|   17.8|392.83| 4.03|34.7|[0.02729,0.0,7.07...|30.257973659354963|\n",
            "|0.03113|  0.0| 4.39|   0| 0.442|6.014|48.5| 8.0136|  3|352|   18.8|385.64|10.53|17.5|[0.03113,0.0,4.39...| 16.29583669103954|\n",
            "| 0.0315| 95.0| 1.47|   0| 0.403|6.975|15.3| 7.6534|  3|402|   17.0| 396.9| 4.56|34.9|[0.0315,95.0,1.47...| 29.49833882633768|\n",
            "|0.03359| 75.0| 2.95|   0| 0.428|7.024|15.8| 5.4011|  3|252|   18.3|395.62| 1.98|34.9|[0.03359,75.0,2.9...| 34.12084495424544|\n",
            "|0.03551| 25.0| 4.86|   0| 0.426|6.167|46.7| 5.4007|  4|281|   19.0|390.64| 7.51|22.9|[0.03551,25.0,4.8...|25.408333482097646|\n",
            "|0.03584| 80.0| 3.37|   0| 0.398| 6.29|17.8| 6.6115|  4|337|   16.1| 396.9| 4.67|23.5|[0.03584,80.0,3.3...| 30.36338954827464|\n",
            "|0.03871| 52.5| 5.32|   0| 0.405|6.209|31.3| 7.3172|  6|293|   16.6| 396.9| 7.14|23.2|[0.03871,52.5,5.3...|27.046394038333528|\n",
            "|0.04297| 52.5| 5.32|   0| 0.405|6.565|22.9| 7.3172|  6|293|   16.6|371.72| 9.51|24.8|[0.04297,52.5,5.3...|26.446162979406797|\n",
            "+-------+-----+-----+----+------+-----+----+-------+---+---+-------+------+-----+----+--------------------+------------------+\n",
            "only showing top 20 rows\n",
            "\n"
          ],
          "name": "stdout"
        }
      ]
    },
    {
      "cell_type": "code",
      "metadata": {
        "colab": {
          "base_uri": "https://localhost:8080/"
        },
        "id": "uxpTKuQyJ8mH",
        "outputId": "5deab4ab-3c93-4a0a-aa8e-0c6d22e006dc"
      },
      "source": [
        "# 표에서 앞의 13개의 피쳐 칼럼들을 세우고\n",
        "# medv(예측할 값), features(13가지 특징 하나의 벡터로 합친것), prediction(medv 예측값)만 보이자.\n",
        "# select함수를 사용한다.\n",
        "predictions.select(predictions.columns[13:]).show()"
      ],
      "execution_count": 32,
      "outputs": [
        {
          "output_type": "stream",
          "text": [
            "+----+--------------------+------------------+\n",
            "|medv|            features|        prediction|\n",
            "+----+--------------------+------------------+\n",
            "|24.0|[0.00632,18.0,2.3...|29.876145971194745|\n",
            "|22.0|[0.01096,55.0,2.2...|26.874994981061604|\n",
            "|32.7|[0.01301,35.0,1.5...|29.487136058357375|\n",
            "|18.9|[0.0136,75.0,4.0,...|15.481950096517203|\n",
            "|50.0|[0.01381,80.0,0.4...| 39.96820478505988|\n",
            "|31.6|[0.01432,100.0,1....|32.902087640882456|\n",
            "|50.0|[0.01501,90.0,1.2...| 43.48607575182313|\n",
            "|30.1|[0.01709,90.0,2.0...|24.942467233880706|\n",
            "|32.9|[0.01778,95.0,1.4...| 29.92176803476908|\n",
            "|50.0|[0.02009,95.0,2.6...| 42.39182156849719|\n",
            "|24.7|[0.02055,85.0,0.7...|24.661359964448067|\n",
            "|23.9|[0.02543,55.0,3.7...|27.612973899267484|\n",
            "|34.7|[0.02729,0.0,7.07...|30.257973659354963|\n",
            "|17.5|[0.03113,0.0,4.39...| 16.29583669103954|\n",
            "|34.9|[0.0315,95.0,1.47...| 29.49833882633768|\n",
            "|34.9|[0.03359,75.0,2.9...| 34.12084495424544|\n",
            "|22.9|[0.03551,25.0,4.8...|25.408333482097646|\n",
            "|23.5|[0.03584,80.0,3.3...| 30.36338954827464|\n",
            "|23.2|[0.03871,52.5,5.3...|27.046394038333528|\n",
            "|24.8|[0.04297,52.5,5.3...|26.446162979406797|\n",
            "+----+--------------------+------------------+\n",
            "only showing top 20 rows\n",
            "\n"
          ],
          "name": "stdout"
        }
      ]
    },
    {
      "cell_type": "code",
      "metadata": {
        "id": "hiuqE26pKBYV"
      },
      "source": [
        "# 만든 모델을 저장한다.\n",
        "# 이렇게 저장하면 나중에 로드해서 다시 쓸 수 있다.\n",
        "# 문제는 이게 구글 코랩에서 돌리면 내 서버로 다시 다운받기가 불가능하다.\n",
        "model.save(\"boston_housing_model\")"
      ],
      "execution_count": 34,
      "outputs": []
    },
    {
      "cell_type": "code",
      "metadata": {
        "colab": {
          "base_uri": "https://localhost:8080/"
        },
        "id": "-3LEk6_uSCxc",
        "outputId": "326856c0-804a-4029-c572-f132b7695a41"
      },
      "source": [
        "!ls boston_housing_model"
      ],
      "execution_count": 35,
      "outputs": [
        {
          "output_type": "stream",
          "text": [
            "data  metadata\n"
          ],
          "name": "stdout"
        }
      ]
    },
    {
      "cell_type": "code",
      "metadata": {
        "id": "xvfSY3ATX9sl",
        "colab": {
          "base_uri": "https://localhost:8080/"
        },
        "outputId": "8bc2b5a0-d43f-4280-a745-1b53e7775af4"
      },
      "source": [
        "!ls -tl boston_housing_model"
      ],
      "execution_count": 36,
      "outputs": [
        {
          "output_type": "stream",
          "text": [
            "total 8\n",
            "drwxr-xr-x 2 root root 4096 Feb  4 18:18 data\n",
            "drwxr-xr-x 2 root root 4096 Feb  4 18:18 metadata\n"
          ],
          "name": "stdout"
        }
      ]
    },
    {
      "cell_type": "code",
      "metadata": {
        "colab": {
          "base_uri": "https://localhost:8080/"
        },
        "id": "NgwgLq6xgLwi",
        "outputId": "bbc516f0-cd21-4b1f-9973-8ce412f85f67"
      },
      "source": [
        "# 모델을 구글 드라이브에 저장할 수 있다.\n",
        "from google.colab import drive\n",
        "drive.mount('/content/gdrive') # 내 구글 드라이브를 마운트한다.\n",
        "# url에서 인증코드를 받아서 붙여넣는다."
      ],
      "execution_count": 37,
      "outputs": [
        {
          "output_type": "stream",
          "text": [
            "Mounted at /content/gdrive\n"
          ],
          "name": "stdout"
        }
      ]
    },
    {
      "cell_type": "code",
      "metadata": {
        "id": "PFEMhdWbgVnk"
      },
      "source": [
        "# 이제 내 구글 드라이브를 코랩에서 인식할 수 있는 드라이브로 만들었다.\n",
        "model_save_name = \"boston_housing_model\"\n",
        "path = F\"/content/gdrive/My Drive/boston_housing_model2\" \n",
        "model.save(path) # 저장"
      ],
      "execution_count": 38,
      "outputs": []
    },
    {
      "cell_type": "code",
      "metadata": {
        "id": "GnIczTktX_mC"
      },
      "source": [
        "from pyspark.ml.regression import LinearRegressionModel # 저장했던 모델을 import한다\n",
        "# 저장했던 모델을 import할때는 LinearRegressionModel이라는 모듈을 임포트해야 한다.\n",
        "\n",
        "#저장했던 path를 입력으로 준다\n",
        "loaded_model = LinearRegressionModel.load(path)  # \"boston_housing_model\")"
      ],
      "execution_count": 39,
      "outputs": []
    },
    {
      "cell_type": "code",
      "metadata": {
        "id": "rUPqrP4Beb7P"
      },
      "source": [
        "predictions2 = loaded_model.transform(test)\n",
        "# 로딩된 모델이 제대로 동작하는지 test데이터셋을 넣어 예측값을 출력해본다."
      ],
      "execution_count": 42,
      "outputs": []
    },
    {
      "cell_type": "code",
      "metadata": {
        "colab": {
          "base_uri": "https://localhost:8080/"
        },
        "id": "cXUj8afbfDLz",
        "outputId": "9e5aa125-595e-42ed-9790-ae89d3799077"
      },
      "source": [
        "predictions2.select(predictions.columns[13:]).show()\n",
        "# 모델이 제대로 저장됐고 정상적으로 로딩되어 쓰임을 알 수 있다."
      ],
      "execution_count": 41,
      "outputs": [
        {
          "output_type": "stream",
          "text": [
            "+----+--------------------+------------------+\n",
            "|medv|            features|        prediction|\n",
            "+----+--------------------+------------------+\n",
            "|24.0|[0.00632,18.0,2.3...|29.876145971194745|\n",
            "|22.0|[0.01096,55.0,2.2...|26.874994981061604|\n",
            "|32.7|[0.01301,35.0,1.5...|29.487136058357375|\n",
            "|18.9|[0.0136,75.0,4.0,...|15.481950096517203|\n",
            "|50.0|[0.01381,80.0,0.4...| 39.96820478505988|\n",
            "|31.6|[0.01432,100.0,1....|32.902087640882456|\n",
            "|50.0|[0.01501,90.0,1.2...| 43.48607575182313|\n",
            "|30.1|[0.01709,90.0,2.0...|24.942467233880706|\n",
            "|32.9|[0.01778,95.0,1.4...| 29.92176803476908|\n",
            "|50.0|[0.02009,95.0,2.6...| 42.39182156849719|\n",
            "|24.7|[0.02055,85.0,0.7...|24.661359964448067|\n",
            "|23.9|[0.02543,55.0,3.7...|27.612973899267484|\n",
            "|34.7|[0.02729,0.0,7.07...|30.257973659354963|\n",
            "|17.5|[0.03113,0.0,4.39...| 16.29583669103954|\n",
            "|34.9|[0.0315,95.0,1.47...| 29.49833882633768|\n",
            "|34.9|[0.03359,75.0,2.9...| 34.12084495424544|\n",
            "|22.9|[0.03551,25.0,4.8...|25.408333482097646|\n",
            "|23.5|[0.03584,80.0,3.3...| 30.36338954827464|\n",
            "|23.2|[0.03871,52.5,5.3...|27.046394038333528|\n",
            "|24.8|[0.04297,52.5,5.3...|26.446162979406797|\n",
            "+----+--------------------+------------------+\n",
            "only showing top 20 rows\n",
            "\n"
          ],
          "name": "stdout"
        }
      ]
    },
    {
      "cell_type": "code",
      "metadata": {
        "id": "DAyn3LSafJuv"
      },
      "source": [
        ""
      ],
      "execution_count": null,
      "outputs": []
    }
  ]
}