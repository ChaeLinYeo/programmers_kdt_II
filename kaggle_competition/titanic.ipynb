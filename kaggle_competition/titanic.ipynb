{
 "cells": [
  {
   "cell_type": "code",
   "execution_count": 1,
   "metadata": {
    "_cell_guid": "b1076dfc-b9ad-4769-8c92-a6c4dae69d19",
    "_uuid": "8f2839f25d086af736a60e9eeb907d3b93b6e0e5",
    "execution": {
     "iopub.execute_input": "2021-02-06T10:05:01.429102Z",
     "iopub.status.busy": "2021-02-06T10:05:01.428132Z",
     "iopub.status.idle": "2021-02-06T10:05:01.434199Z",
     "shell.execute_reply": "2021-02-06T10:05:01.433537Z"
    },
    "papermill": {
     "duration": 0.026675,
     "end_time": "2021-02-06T10:05:01.434382",
     "exception": false,
     "start_time": "2021-02-06T10:05:01.407707",
     "status": "completed"
    },
    "tags": []
   },
   "outputs": [
    {
     "name": "stdout",
     "output_type": "stream",
     "text": [
      "/kaggle/input/titanic/train.csv\n",
      "/kaggle/input/titanic/test.csv\n",
      "/kaggle/input/titanic/gender_submission.csv\n"
     ]
    }
   ],
   "source": [
    "# This Python 3 environment comes with many helpful analytics libraries installed\n",
    "# It is defined by the kaggle/python Docker image: https://github.com/kaggle/docker-python\n",
    "# For example, here's several helpful packages to load\n",
    "\n",
    "import numpy as np # linear algebra\n",
    "import pandas as pd # data processing, CSV file I/O (e.g. pd.read_csv)\n",
    "\n",
    "# Input data files are available in the read-only \"../input/\" directory\n",
    "# For example, running this (by clicking run or pressing Shift+Enter) will list all files under the input directory\n",
    "\n",
    "import os\n",
    "for dirname, _, filenames in os.walk('/kaggle/input'):\n",
    "    for filename in filenames:\n",
    "        print(os.path.join(dirname, filename))\n",
    "\n",
    "# You can write up to 20GB to the current directory (/kaggle/working/) that gets preserved as output when you create a version using \"Save & Run All\" \n",
    "# You can also write temporary files to /kaggle/temp/, but they won't be saved outside of the current session"
   ]
  },
  {
   "cell_type": "markdown",
   "metadata": {
    "papermill": {
     "duration": 0.013622,
     "end_time": "2021-02-06T10:05:01.462696",
     "exception": false,
     "start_time": "2021-02-06T10:05:01.449074",
     "status": "completed"
    },
    "tags": []
   },
   "source": [
    "점수를 높이기 위해 어떤 예상을 했는지\n",
    "\n",
    "본인 팀이 어떤 규칙을 정했는지\n",
    "\n",
    "어떤 모델을 사용했는지\n",
    "\n",
    "발표 3분"
   ]
  },
  {
   "cell_type": "code",
   "execution_count": 2,
   "metadata": {
    "execution": {
     "iopub.execute_input": "2021-02-06T10:05:01.495522Z",
     "iopub.status.busy": "2021-02-06T10:05:01.494875Z",
     "iopub.status.idle": "2021-02-06T10:05:01.521779Z",
     "shell.execute_reply": "2021-02-06T10:05:01.522580Z"
    },
    "papermill": {
     "duration": 0.046305,
     "end_time": "2021-02-06T10:05:01.522828",
     "exception": false,
     "start_time": "2021-02-06T10:05:01.476523",
     "status": "completed"
    },
    "tags": []
   },
   "outputs": [],
   "source": [
    "train = pd.read_csv('/kaggle/input/titanic/train.csv')\n",
    "test = pd.read_csv('/kaggle/input/titanic/test.csv')"
   ]
  },
  {
   "cell_type": "markdown",
   "metadata": {
    "papermill": {
     "duration": 0.013796,
     "end_time": "2021-02-06T10:05:01.550778",
     "exception": false,
     "start_time": "2021-02-06T10:05:01.536982",
     "status": "completed"
    },
    "tags": []
   },
   "source": [
    "### 전처리\n",
    "\n",
    "Name : Mr. , Mrs. , Miss, Master\n",
    "\n",
    "Cabin : Null. , NotNull(Crew).\n",
    "\n",
    "\n",
    "\n",
    "Ticket, Embarked : 버려."
   ]
  },
  {
   "cell_type": "code",
   "execution_count": 3,
   "metadata": {
    "execution": {
     "iopub.execute_input": "2021-02-06T10:05:01.596348Z",
     "iopub.status.busy": "2021-02-06T10:05:01.595461Z",
     "iopub.status.idle": "2021-02-06T10:05:01.598692Z",
     "shell.execute_reply": "2021-02-06T10:05:01.599137Z"
    },
    "papermill": {
     "duration": 0.034149,
     "end_time": "2021-02-06T10:05:01.599321",
     "exception": false,
     "start_time": "2021-02-06T10:05:01.565172",
     "status": "completed"
    },
    "tags": []
   },
   "outputs": [],
   "source": [
    "# cabin data를 indexing\n",
    "# null 이면 0, 아니면 1 (crew라는 의미)\n",
    "\n",
    "def Cabin_1(col):\n",
    "    cabin = col\n",
    "    if pd.isnull(cabin):\n",
    "        return 0\n",
    "    else:\n",
    "        return 1\n",
    "    \n",
    "train['Cabin'] = train['Cabin'].apply(Cabin_1)"
   ]
  },
  {
   "cell_type": "code",
   "execution_count": 4,
   "metadata": {
    "execution": {
     "iopub.execute_input": "2021-02-06T10:05:01.637042Z",
     "iopub.status.busy": "2021-02-06T10:05:01.636379Z",
     "iopub.status.idle": "2021-02-06T10:05:01.639322Z",
     "shell.execute_reply": "2021-02-06T10:05:01.638686Z"
    },
    "papermill": {
     "duration": 0.024906,
     "end_time": "2021-02-06T10:05:01.639452",
     "exception": false,
     "start_time": "2021-02-06T10:05:01.614546",
     "status": "completed"
    },
    "tags": []
   },
   "outputs": [],
   "source": [
    "# name data를 indexing\n",
    "\n",
    "def Name_1(col):\n",
    "    name = col\n",
    "    if 'Mr.' in name:\n",
    "        return 0\n",
    "    elif 'Mrs' in name:\n",
    "        return 1\n",
    "    elif 'Miss' in name:\n",
    "        return 2\n",
    "    elif 'Master' in name:\n",
    "        return 3\n",
    "    else:\n",
    "        return 4\n",
    "    \n",
    "train['Name'] = train['Name'].apply(Name_1)"
   ]
  },
  {
   "cell_type": "code",
   "execution_count": 5,
   "metadata": {
    "execution": {
     "iopub.execute_input": "2021-02-06T10:05:01.678368Z",
     "iopub.status.busy": "2021-02-06T10:05:01.674458Z",
     "iopub.status.idle": "2021-02-06T10:05:01.682769Z",
     "shell.execute_reply": "2021-02-06T10:05:01.682235Z"
    },
    "papermill": {
     "duration": 0.028992,
     "end_time": "2021-02-06T10:05:01.682901",
     "exception": false,
     "start_time": "2021-02-06T10:05:01.653909",
     "status": "completed"
    },
    "tags": []
   },
   "outputs": [],
   "source": [
    "# sex data를 indexing\n",
    "# male = 1, female = 0\n",
    "\n",
    "train.Sex = train.groupby('Sex').ngroup()"
   ]
  },
  {
   "cell_type": "code",
   "execution_count": 6,
   "metadata": {
    "execution": {
     "iopub.execute_input": "2021-02-06T10:05:01.719766Z",
     "iopub.status.busy": "2021-02-06T10:05:01.719012Z",
     "iopub.status.idle": "2021-02-06T10:05:01.740619Z",
     "shell.execute_reply": "2021-02-06T10:05:01.740030Z"
    },
    "papermill": {
     "duration": 0.043155,
     "end_time": "2021-02-06T10:05:01.740755",
     "exception": false,
     "start_time": "2021-02-06T10:05:01.697600",
     "status": "completed"
    },
    "tags": []
   },
   "outputs": [],
   "source": [
    "# Age data의 null값 impute.\n",
    "\n",
    "def Age_1(cols) :\n",
    "    Age=cols[0]\n",
    "    Pclass=cols[1] \n",
    "    \n",
    "    if pd.isnull(Age) :\n",
    "        if Pclass==1 :\n",
    "            return 42 \n",
    "        elif Pclass==2:\n",
    "            return 25\n",
    "        else :\n",
    "            return 22\n",
    "    else :\n",
    "        return Age\n",
    "    \n",
    "train.Age=train[['Age','Pclass']].apply(Age_1,axis=1)"
   ]
  },
  {
   "cell_type": "code",
   "execution_count": 7,
   "metadata": {
    "execution": {
     "iopub.execute_input": "2021-02-06T10:05:01.781484Z",
     "iopub.status.busy": "2021-02-06T10:05:01.780858Z",
     "iopub.status.idle": "2021-02-06T10:05:01.806772Z",
     "shell.execute_reply": "2021-02-06T10:05:01.805886Z"
    },
    "papermill": {
     "duration": 0.050841,
     "end_time": "2021-02-06T10:05:01.806914",
     "exception": false,
     "start_time": "2021-02-06T10:05:01.756073",
     "status": "completed"
    },
    "tags": []
   },
   "outputs": [
    {
     "data": {
      "text/html": [
       "<div>\n",
       "<style scoped>\n",
       "    .dataframe tbody tr th:only-of-type {\n",
       "        vertical-align: middle;\n",
       "    }\n",
       "\n",
       "    .dataframe tbody tr th {\n",
       "        vertical-align: top;\n",
       "    }\n",
       "\n",
       "    .dataframe thead th {\n",
       "        text-align: right;\n",
       "    }\n",
       "</style>\n",
       "<table border=\"1\" class=\"dataframe\">\n",
       "  <thead>\n",
       "    <tr style=\"text-align: right;\">\n",
       "      <th></th>\n",
       "      <th>PassengerId</th>\n",
       "      <th>Survived</th>\n",
       "      <th>Pclass</th>\n",
       "      <th>Name</th>\n",
       "      <th>Sex</th>\n",
       "      <th>Age</th>\n",
       "      <th>SibSp</th>\n",
       "      <th>Parch</th>\n",
       "      <th>Ticket</th>\n",
       "      <th>Fare</th>\n",
       "      <th>Cabin</th>\n",
       "      <th>Embarked</th>\n",
       "    </tr>\n",
       "  </thead>\n",
       "  <tbody>\n",
       "    <tr>\n",
       "      <th>0</th>\n",
       "      <td>1</td>\n",
       "      <td>0</td>\n",
       "      <td>3</td>\n",
       "      <td>0</td>\n",
       "      <td>1</td>\n",
       "      <td>22.0</td>\n",
       "      <td>1</td>\n",
       "      <td>0</td>\n",
       "      <td>A/5 21171</td>\n",
       "      <td>7.2500</td>\n",
       "      <td>0</td>\n",
       "      <td>S</td>\n",
       "    </tr>\n",
       "    <tr>\n",
       "      <th>1</th>\n",
       "      <td>2</td>\n",
       "      <td>1</td>\n",
       "      <td>1</td>\n",
       "      <td>1</td>\n",
       "      <td>0</td>\n",
       "      <td>38.0</td>\n",
       "      <td>1</td>\n",
       "      <td>0</td>\n",
       "      <td>PC 17599</td>\n",
       "      <td>71.2833</td>\n",
       "      <td>1</td>\n",
       "      <td>C</td>\n",
       "    </tr>\n",
       "    <tr>\n",
       "      <th>2</th>\n",
       "      <td>3</td>\n",
       "      <td>1</td>\n",
       "      <td>3</td>\n",
       "      <td>2</td>\n",
       "      <td>0</td>\n",
       "      <td>26.0</td>\n",
       "      <td>0</td>\n",
       "      <td>0</td>\n",
       "      <td>STON/O2. 3101282</td>\n",
       "      <td>7.9250</td>\n",
       "      <td>0</td>\n",
       "      <td>S</td>\n",
       "    </tr>\n",
       "    <tr>\n",
       "      <th>3</th>\n",
       "      <td>4</td>\n",
       "      <td>1</td>\n",
       "      <td>1</td>\n",
       "      <td>1</td>\n",
       "      <td>0</td>\n",
       "      <td>35.0</td>\n",
       "      <td>1</td>\n",
       "      <td>0</td>\n",
       "      <td>113803</td>\n",
       "      <td>53.1000</td>\n",
       "      <td>1</td>\n",
       "      <td>S</td>\n",
       "    </tr>\n",
       "    <tr>\n",
       "      <th>4</th>\n",
       "      <td>5</td>\n",
       "      <td>0</td>\n",
       "      <td>3</td>\n",
       "      <td>0</td>\n",
       "      <td>1</td>\n",
       "      <td>35.0</td>\n",
       "      <td>0</td>\n",
       "      <td>0</td>\n",
       "      <td>373450</td>\n",
       "      <td>8.0500</td>\n",
       "      <td>0</td>\n",
       "      <td>S</td>\n",
       "    </tr>\n",
       "    <tr>\n",
       "      <th>...</th>\n",
       "      <td>...</td>\n",
       "      <td>...</td>\n",
       "      <td>...</td>\n",
       "      <td>...</td>\n",
       "      <td>...</td>\n",
       "      <td>...</td>\n",
       "      <td>...</td>\n",
       "      <td>...</td>\n",
       "      <td>...</td>\n",
       "      <td>...</td>\n",
       "      <td>...</td>\n",
       "      <td>...</td>\n",
       "    </tr>\n",
       "    <tr>\n",
       "      <th>886</th>\n",
       "      <td>887</td>\n",
       "      <td>0</td>\n",
       "      <td>2</td>\n",
       "      <td>4</td>\n",
       "      <td>1</td>\n",
       "      <td>27.0</td>\n",
       "      <td>0</td>\n",
       "      <td>0</td>\n",
       "      <td>211536</td>\n",
       "      <td>13.0000</td>\n",
       "      <td>0</td>\n",
       "      <td>S</td>\n",
       "    </tr>\n",
       "    <tr>\n",
       "      <th>887</th>\n",
       "      <td>888</td>\n",
       "      <td>1</td>\n",
       "      <td>1</td>\n",
       "      <td>2</td>\n",
       "      <td>0</td>\n",
       "      <td>19.0</td>\n",
       "      <td>0</td>\n",
       "      <td>0</td>\n",
       "      <td>112053</td>\n",
       "      <td>30.0000</td>\n",
       "      <td>1</td>\n",
       "      <td>S</td>\n",
       "    </tr>\n",
       "    <tr>\n",
       "      <th>888</th>\n",
       "      <td>889</td>\n",
       "      <td>0</td>\n",
       "      <td>3</td>\n",
       "      <td>2</td>\n",
       "      <td>0</td>\n",
       "      <td>22.0</td>\n",
       "      <td>1</td>\n",
       "      <td>2</td>\n",
       "      <td>W./C. 6607</td>\n",
       "      <td>23.4500</td>\n",
       "      <td>0</td>\n",
       "      <td>S</td>\n",
       "    </tr>\n",
       "    <tr>\n",
       "      <th>889</th>\n",
       "      <td>890</td>\n",
       "      <td>1</td>\n",
       "      <td>1</td>\n",
       "      <td>0</td>\n",
       "      <td>1</td>\n",
       "      <td>26.0</td>\n",
       "      <td>0</td>\n",
       "      <td>0</td>\n",
       "      <td>111369</td>\n",
       "      <td>30.0000</td>\n",
       "      <td>1</td>\n",
       "      <td>C</td>\n",
       "    </tr>\n",
       "    <tr>\n",
       "      <th>890</th>\n",
       "      <td>891</td>\n",
       "      <td>0</td>\n",
       "      <td>3</td>\n",
       "      <td>0</td>\n",
       "      <td>1</td>\n",
       "      <td>32.0</td>\n",
       "      <td>0</td>\n",
       "      <td>0</td>\n",
       "      <td>370376</td>\n",
       "      <td>7.7500</td>\n",
       "      <td>0</td>\n",
       "      <td>Q</td>\n",
       "    </tr>\n",
       "  </tbody>\n",
       "</table>\n",
       "<p>891 rows × 12 columns</p>\n",
       "</div>"
      ],
      "text/plain": [
       "     PassengerId  Survived  Pclass  Name  Sex   Age  SibSp  Parch  \\\n",
       "0              1         0       3     0    1  22.0      1      0   \n",
       "1              2         1       1     1    0  38.0      1      0   \n",
       "2              3         1       3     2    0  26.0      0      0   \n",
       "3              4         1       1     1    0  35.0      1      0   \n",
       "4              5         0       3     0    1  35.0      0      0   \n",
       "..           ...       ...     ...   ...  ...   ...    ...    ...   \n",
       "886          887         0       2     4    1  27.0      0      0   \n",
       "887          888         1       1     2    0  19.0      0      0   \n",
       "888          889         0       3     2    0  22.0      1      2   \n",
       "889          890         1       1     0    1  26.0      0      0   \n",
       "890          891         0       3     0    1  32.0      0      0   \n",
       "\n",
       "               Ticket     Fare  Cabin Embarked  \n",
       "0           A/5 21171   7.2500      0        S  \n",
       "1            PC 17599  71.2833      1        C  \n",
       "2    STON/O2. 3101282   7.9250      0        S  \n",
       "3              113803  53.1000      1        S  \n",
       "4              373450   8.0500      0        S  \n",
       "..                ...      ...    ...      ...  \n",
       "886            211536  13.0000      0        S  \n",
       "887            112053  30.0000      1        S  \n",
       "888        W./C. 6607  23.4500      0        S  \n",
       "889            111369  30.0000      1        C  \n",
       "890            370376   7.7500      0        Q  \n",
       "\n",
       "[891 rows x 12 columns]"
      ]
     },
     "execution_count": 7,
     "metadata": {},
     "output_type": "execute_result"
    }
   ],
   "source": [
    "train"
   ]
  },
  {
   "cell_type": "code",
   "execution_count": 8,
   "metadata": {
    "execution": {
     "iopub.execute_input": "2021-02-06T10:05:01.845876Z",
     "iopub.status.busy": "2021-02-06T10:05:01.844906Z",
     "iopub.status.idle": "2021-02-06T10:05:01.847783Z",
     "shell.execute_reply": "2021-02-06T10:05:01.847241Z"
    },
    "papermill": {
     "duration": 0.023922,
     "end_time": "2021-02-06T10:05:01.847912",
     "exception": false,
     "start_time": "2021-02-06T10:05:01.823990",
     "status": "completed"
    },
    "tags": []
   },
   "outputs": [],
   "source": [
    "features = ['Pclass', 'Name', 'Sex', 'Age', 'SibSp', 'Parch', 'Fare', 'Cabin']\n",
    "\n",
    "X_train = train[features]\n",
    "y_train = train.Survived"
   ]
  },
  {
   "cell_type": "code",
   "execution_count": 9,
   "metadata": {
    "execution": {
     "iopub.execute_input": "2021-02-06T10:05:01.883892Z",
     "iopub.status.busy": "2021-02-06T10:05:01.883324Z",
     "iopub.status.idle": "2021-02-06T10:05:02.749671Z",
     "shell.execute_reply": "2021-02-06T10:05:02.749091Z"
    },
    "papermill": {
     "duration": 0.886621,
     "end_time": "2021-02-06T10:05:02.749852",
     "exception": false,
     "start_time": "2021-02-06T10:05:01.863231",
     "status": "completed"
    },
    "tags": []
   },
   "outputs": [
    {
     "name": "stdout",
     "output_type": "stream",
     "text": [
      "[[1.         0.         1.         ... 0.         0.01415106 0.        ]\n",
      " [0.         0.25       0.         ... 0.         0.13913574 1.        ]\n",
      " [1.         0.5        0.         ... 0.         0.01546857 0.        ]\n",
      " ...\n",
      " [1.         0.5        0.         ... 0.33333333 0.04577135 0.        ]\n",
      " [0.         0.         1.         ... 0.         0.0585561  1.        ]\n",
      " [1.         0.         1.         ... 0.         0.01512699 0.        ]]\n"
     ]
    }
   ],
   "source": [
    "# Scaling.\n",
    "\n",
    "from sklearn.preprocessing import MinMaxScaler\n",
    "\n",
    "scaler = MinMaxScaler()\n",
    "scaler.fit(X_train)\n",
    "x_train_scaled = scaler.transform(X_train)\n",
    "\n",
    "print(x_train_scaled)"
   ]
  },
  {
   "cell_type": "code",
   "execution_count": 10,
   "metadata": {
    "execution": {
     "iopub.execute_input": "2021-02-06T10:05:02.788078Z",
     "iopub.status.busy": "2021-02-06T10:05:02.787434Z",
     "iopub.status.idle": "2021-02-06T10:05:02.922003Z",
     "shell.execute_reply": "2021-02-06T10:05:02.921441Z"
    },
    "papermill": {
     "duration": 0.155452,
     "end_time": "2021-02-06T10:05:02.922154",
     "exception": false,
     "start_time": "2021-02-06T10:05:02.766702",
     "status": "completed"
    },
    "tags": []
   },
   "outputs": [],
   "source": [
    "#Logistic Regression으로 훈련.\n",
    "\n",
    "from sklearn.linear_model import LogisticRegression\n",
    "\n",
    "lgr=LogisticRegression(max_iter=500)\n",
    "lgr_train=lgr.fit(x_train_scaled,y_train)"
   ]
  },
  {
   "cell_type": "code",
   "execution_count": 11,
   "metadata": {
    "execution": {
     "iopub.execute_input": "2021-02-06T10:05:02.977504Z",
     "iopub.status.busy": "2021-02-06T10:05:02.972019Z",
     "iopub.status.idle": "2021-02-06T10:05:02.981772Z",
     "shell.execute_reply": "2021-02-06T10:05:02.981119Z"
    },
    "papermill": {
     "duration": 0.043278,
     "end_time": "2021-02-06T10:05:02.981919",
     "exception": false,
     "start_time": "2021-02-06T10:05:02.938641",
     "status": "completed"
    },
    "tags": []
   },
   "outputs": [
    {
     "data": {
      "text/plain": [
       "PassengerId    0\n",
       "Pclass         0\n",
       "Name           0\n",
       "Sex            0\n",
       "Age            0\n",
       "SibSp          0\n",
       "Parch          0\n",
       "Ticket         0\n",
       "Fare           1\n",
       "Cabin          0\n",
       "Embarked       0\n",
       "dtype: int64"
      ]
     },
     "execution_count": 11,
     "metadata": {},
     "output_type": "execute_result"
    }
   ],
   "source": [
    "# test data 전처리 중 null 값 체크.\n",
    "\n",
    "test['Cabin'] = test['Cabin'].apply(Cabin_1)\n",
    "\n",
    "test['Name'] = test['Name'].apply(Name_1)\n",
    "\n",
    "test.Sex = test.groupby('Sex').ngroup()\n",
    "\n",
    "test.Age=test[['Age','Pclass']].apply(Age_1,axis=1)\n",
    "\n",
    "test.isnull().sum()"
   ]
  },
  {
   "cell_type": "code",
   "execution_count": 12,
   "metadata": {
    "execution": {
     "iopub.execute_input": "2021-02-06T10:05:03.021480Z",
     "iopub.status.busy": "2021-02-06T10:05:03.020588Z",
     "iopub.status.idle": "2021-02-06T10:05:03.049095Z",
     "shell.execute_reply": "2021-02-06T10:05:03.050073Z"
    },
    "papermill": {
     "duration": 0.051161,
     "end_time": "2021-02-06T10:05:03.050248",
     "exception": false,
     "start_time": "2021-02-06T10:05:02.999087",
     "status": "completed"
    },
    "tags": []
   },
   "outputs": [
    {
     "data": {
      "text/html": [
       "<div>\n",
       "<style scoped>\n",
       "    .dataframe tbody tr th:only-of-type {\n",
       "        vertical-align: middle;\n",
       "    }\n",
       "\n",
       "    .dataframe tbody tr th {\n",
       "        vertical-align: top;\n",
       "    }\n",
       "\n",
       "    .dataframe thead th {\n",
       "        text-align: right;\n",
       "    }\n",
       "</style>\n",
       "<table border=\"1\" class=\"dataframe\">\n",
       "  <thead>\n",
       "    <tr style=\"text-align: right;\">\n",
       "      <th></th>\n",
       "      <th>PassengerId</th>\n",
       "      <th>Pclass</th>\n",
       "      <th>Name</th>\n",
       "      <th>Sex</th>\n",
       "      <th>Age</th>\n",
       "      <th>SibSp</th>\n",
       "      <th>Parch</th>\n",
       "      <th>Ticket</th>\n",
       "      <th>Fare</th>\n",
       "      <th>Cabin</th>\n",
       "      <th>Embarked</th>\n",
       "    </tr>\n",
       "  </thead>\n",
       "  <tbody>\n",
       "    <tr>\n",
       "      <th>152</th>\n",
       "      <td>1044</td>\n",
       "      <td>3</td>\n",
       "      <td>0</td>\n",
       "      <td>1</td>\n",
       "      <td>60.5</td>\n",
       "      <td>0</td>\n",
       "      <td>0</td>\n",
       "      <td>3701</td>\n",
       "      <td>NaN</td>\n",
       "      <td>0</td>\n",
       "      <td>S</td>\n",
       "    </tr>\n",
       "  </tbody>\n",
       "</table>\n",
       "</div>"
      ],
      "text/plain": [
       "     PassengerId  Pclass  Name  Sex   Age  SibSp  Parch Ticket  Fare  Cabin  \\\n",
       "152         1044       3     0    1  60.5      0      0   3701   NaN      0   \n",
       "\n",
       "    Embarked  \n",
       "152        S  "
      ]
     },
     "execution_count": 12,
     "metadata": {},
     "output_type": "execute_result"
    }
   ],
   "source": [
    "test[test.Fare.isnull() == True]"
   ]
  },
  {
   "cell_type": "code",
   "execution_count": 13,
   "metadata": {
    "execution": {
     "iopub.execute_input": "2021-02-06T10:05:03.098473Z",
     "iopub.status.busy": "2021-02-06T10:05:03.097783Z",
     "iopub.status.idle": "2021-02-06T10:05:03.105498Z",
     "shell.execute_reply": "2021-02-06T10:05:03.104727Z"
    },
    "papermill": {
     "duration": 0.028835,
     "end_time": "2021-02-06T10:05:03.105652",
     "exception": false,
     "start_time": "2021-02-06T10:05:03.076817",
     "status": "completed"
    },
    "tags": []
   },
   "outputs": [],
   "source": [
    "# 해당 클래스의 평균 fare로 impute.\n",
    "\n",
    "test = test.fillna(test[test.Pclass==3].Fare.mean())"
   ]
  },
  {
   "cell_type": "code",
   "execution_count": 14,
   "metadata": {
    "execution": {
     "iopub.execute_input": "2021-02-06T10:05:03.150689Z",
     "iopub.status.busy": "2021-02-06T10:05:03.149670Z",
     "iopub.status.idle": "2021-02-06T10:05:03.153453Z",
     "shell.execute_reply": "2021-02-06T10:05:03.153948Z"
    },
    "papermill": {
     "duration": 0.030009,
     "end_time": "2021-02-06T10:05:03.154114",
     "exception": false,
     "start_time": "2021-02-06T10:05:03.124105",
     "status": "completed"
    },
    "tags": []
   },
   "outputs": [
    {
     "data": {
      "text/plain": [
       "PassengerId    0\n",
       "Pclass         0\n",
       "Name           0\n",
       "Sex            0\n",
       "Age            0\n",
       "SibSp          0\n",
       "Parch          0\n",
       "Ticket         0\n",
       "Fare           0\n",
       "Cabin          0\n",
       "Embarked       0\n",
       "dtype: int64"
      ]
     },
     "execution_count": 14,
     "metadata": {},
     "output_type": "execute_result"
    }
   ],
   "source": [
    "test.isnull().sum()"
   ]
  },
  {
   "cell_type": "code",
   "execution_count": 15,
   "metadata": {
    "execution": {
     "iopub.execute_input": "2021-02-06T10:05:03.194752Z",
     "iopub.status.busy": "2021-02-06T10:05:03.193774Z",
     "iopub.status.idle": "2021-02-06T10:05:03.203688Z",
     "shell.execute_reply": "2021-02-06T10:05:03.204180Z"
    },
    "papermill": {
     "duration": 0.031843,
     "end_time": "2021-02-06T10:05:03.204351",
     "exception": false,
     "start_time": "2021-02-06T10:05:03.172508",
     "status": "completed"
    },
    "tags": []
   },
   "outputs": [],
   "source": [
    "# test data로 scaling해서 예측값 구하기.\n",
    "\n",
    "X_test = test[features]\n",
    "\n",
    "test_scaler = MinMaxScaler()\n",
    "test_scaler.fit(X_test)\n",
    "x_test_scaled = test_scaler.transform(X_test)\n",
    "\n",
    "y_pred = lgr.predict(x_test_scaled)"
   ]
  },
  {
   "cell_type": "code",
   "execution_count": 16,
   "metadata": {
    "execution": {
     "iopub.execute_input": "2021-02-06T10:05:03.245507Z",
     "iopub.status.busy": "2021-02-06T10:05:03.244439Z",
     "iopub.status.idle": "2021-02-06T10:05:03.250855Z",
     "shell.execute_reply": "2021-02-06T10:05:03.251435Z"
    },
    "papermill": {
     "duration": 0.029008,
     "end_time": "2021-02-06T10:05:03.251593",
     "exception": false,
     "start_time": "2021-02-06T10:05:03.222585",
     "status": "completed"
    },
    "tags": []
   },
   "outputs": [
    {
     "data": {
      "text/plain": [
       "array([0, 0, 0, 0, 1, 0, 1, 0, 1, 0, 0, 0, 1, 0, 1, 1, 0, 0, 1, 0, 0, 0,\n",
       "       1, 0, 1, 0, 1, 0, 0, 0, 0, 0, 0, 1, 0, 0, 1, 1, 0, 0, 0, 0, 0, 1,\n",
       "       1, 0, 0, 0, 1, 0, 0, 0, 1, 1, 0, 0, 0, 0, 0, 1, 0, 0, 0, 1, 1, 1,\n",
       "       1, 0, 0, 1, 1, 0, 1, 1, 1, 1, 0, 1, 0, 1, 0, 0, 0, 0, 0, 0, 1, 1,\n",
       "       1, 0, 1, 0, 1, 0, 0, 0, 1, 0, 1, 0, 1, 0, 0, 0, 1, 0, 0, 0, 0, 0,\n",
       "       0, 1, 1, 1, 1, 0, 0, 1, 0, 1, 1, 0, 1, 0, 0, 1, 0, 1, 0, 0, 0, 1,\n",
       "       1, 0, 0, 0, 0, 0, 1, 0, 0, 1, 0, 0, 0, 0, 0, 0, 0, 0, 1, 0, 0, 0,\n",
       "       0, 0, 1, 1, 0, 1, 1, 0, 1, 0, 0, 1, 0, 0, 1, 1, 0, 0, 0, 0, 0, 1,\n",
       "       1, 0, 1, 1, 0, 0, 1, 0, 1, 0, 1, 0, 0, 0, 0, 0, 0, 0, 0, 0, 1, 1,\n",
       "       0, 1, 1, 0, 1, 1, 0, 0, 1, 0, 1, 0, 0, 0, 0, 1, 0, 0, 1, 0, 1, 0,\n",
       "       1, 0, 1, 0, 1, 1, 0, 1, 0, 0, 0, 1, 0, 0, 0, 0, 0, 0, 1, 1, 1, 1,\n",
       "       0, 0, 0, 0, 1, 0, 1, 1, 1, 0, 0, 0, 0, 0, 0, 0, 1, 0, 0, 0, 1, 1,\n",
       "       0, 0, 0, 0, 1, 0, 0, 0, 1, 1, 0, 1, 0, 0, 0, 0, 1, 0, 1, 1, 1, 0,\n",
       "       0, 0, 0, 0, 0, 1, 0, 1, 0, 0, 1, 0, 0, 0, 0, 0, 0, 0, 1, 1, 0, 0,\n",
       "       0, 0, 0, 0, 0, 1, 1, 1, 0, 0, 0, 0, 0, 0, 0, 0, 1, 0, 1, 0, 0, 0,\n",
       "       1, 0, 0, 1, 0, 0, 0, 0, 0, 0, 0, 0, 0, 1, 0, 1, 0, 1, 0, 1, 1, 0,\n",
       "       0, 0, 1, 0, 1, 0, 0, 1, 0, 1, 1, 0, 1, 0, 0, 1, 1, 0, 0, 1, 0, 0,\n",
       "       1, 1, 1, 0, 0, 0, 0, 0, 1, 1, 0, 1, 0, 0, 0, 0, 1, 1, 0, 0, 0, 1,\n",
       "       0, 1, 0, 0, 1, 0, 1, 0, 0, 0, 0, 0, 1, 1, 1, 1, 1, 0, 1, 0, 0, 0])"
      ]
     },
     "execution_count": 16,
     "metadata": {},
     "output_type": "execute_result"
    }
   ],
   "source": [
    "y_pred"
   ]
  },
  {
   "cell_type": "code",
   "execution_count": 17,
   "metadata": {
    "execution": {
     "iopub.execute_input": "2021-02-06T10:05:03.293749Z",
     "iopub.status.busy": "2021-02-06T10:05:03.292844Z",
     "iopub.status.idle": "2021-02-06T10:05:03.307606Z",
     "shell.execute_reply": "2021-02-06T10:05:03.307058Z"
    },
    "papermill": {
     "duration": 0.037111,
     "end_time": "2021-02-06T10:05:03.307736",
     "exception": false,
     "start_time": "2021-02-06T10:05:03.270625",
     "status": "completed"
    },
    "tags": []
   },
   "outputs": [
    {
     "data": {
      "text/html": [
       "<div>\n",
       "<style scoped>\n",
       "    .dataframe tbody tr th:only-of-type {\n",
       "        vertical-align: middle;\n",
       "    }\n",
       "\n",
       "    .dataframe tbody tr th {\n",
       "        vertical-align: top;\n",
       "    }\n",
       "\n",
       "    .dataframe thead th {\n",
       "        text-align: right;\n",
       "    }\n",
       "</style>\n",
       "<table border=\"1\" class=\"dataframe\">\n",
       "  <thead>\n",
       "    <tr style=\"text-align: right;\">\n",
       "      <th></th>\n",
       "      <th>PassengerId</th>\n",
       "      <th>Survived</th>\n",
       "    </tr>\n",
       "  </thead>\n",
       "  <tbody>\n",
       "    <tr>\n",
       "      <th>0</th>\n",
       "      <td>892</td>\n",
       "      <td>0</td>\n",
       "    </tr>\n",
       "    <tr>\n",
       "      <th>1</th>\n",
       "      <td>893</td>\n",
       "      <td>0</td>\n",
       "    </tr>\n",
       "    <tr>\n",
       "      <th>2</th>\n",
       "      <td>894</td>\n",
       "      <td>0</td>\n",
       "    </tr>\n",
       "    <tr>\n",
       "      <th>3</th>\n",
       "      <td>895</td>\n",
       "      <td>0</td>\n",
       "    </tr>\n",
       "    <tr>\n",
       "      <th>4</th>\n",
       "      <td>896</td>\n",
       "      <td>1</td>\n",
       "    </tr>\n",
       "    <tr>\n",
       "      <th>...</th>\n",
       "      <td>...</td>\n",
       "      <td>...</td>\n",
       "    </tr>\n",
       "    <tr>\n",
       "      <th>413</th>\n",
       "      <td>1305</td>\n",
       "      <td>0</td>\n",
       "    </tr>\n",
       "    <tr>\n",
       "      <th>414</th>\n",
       "      <td>1306</td>\n",
       "      <td>1</td>\n",
       "    </tr>\n",
       "    <tr>\n",
       "      <th>415</th>\n",
       "      <td>1307</td>\n",
       "      <td>0</td>\n",
       "    </tr>\n",
       "    <tr>\n",
       "      <th>416</th>\n",
       "      <td>1308</td>\n",
       "      <td>0</td>\n",
       "    </tr>\n",
       "    <tr>\n",
       "      <th>417</th>\n",
       "      <td>1309</td>\n",
       "      <td>0</td>\n",
       "    </tr>\n",
       "  </tbody>\n",
       "</table>\n",
       "<p>418 rows × 2 columns</p>\n",
       "</div>"
      ],
      "text/plain": [
       "     PassengerId  Survived\n",
       "0            892         0\n",
       "1            893         0\n",
       "2            894         0\n",
       "3            895         0\n",
       "4            896         1\n",
       "..           ...       ...\n",
       "413         1305         0\n",
       "414         1306         1\n",
       "415         1307         0\n",
       "416         1308         0\n",
       "417         1309         0\n",
       "\n",
       "[418 rows x 2 columns]"
      ]
     },
     "execution_count": 17,
     "metadata": {},
     "output_type": "execute_result"
    }
   ],
   "source": [
    "pId = pd.DataFrame(test.PassengerId)\n",
    "surv = pd.DataFrame(y_pred, columns=['Survived'])\n",
    "y_submit = pd.concat([pId,surv], axis=1)\n",
    "\n",
    "y_submit"
   ]
  },
  {
   "cell_type": "code",
   "execution_count": 18,
   "metadata": {
    "execution": {
     "iopub.execute_input": "2021-02-06T10:05:03.351586Z",
     "iopub.status.busy": "2021-02-06T10:05:03.350889Z",
     "iopub.status.idle": "2021-02-06T10:05:03.357187Z",
     "shell.execute_reply": "2021-02-06T10:05:03.357701Z"
    },
    "papermill": {
     "duration": 0.03067,
     "end_time": "2021-02-06T10:05:03.357910",
     "exception": false,
     "start_time": "2021-02-06T10:05:03.327240",
     "status": "completed"
    },
    "tags": []
   },
   "outputs": [],
   "source": [
    "y_submit.to_csv(\"Submission.csv\", index = False)\n",
    "\n",
    "# 제출본 확인."
   ]
  },
  {
   "cell_type": "markdown",
   "metadata": {
    "papermill": {
     "duration": 0.019019,
     "end_time": "2021-02-06T10:05:03.396394",
     "exception": false,
     "start_time": "2021-02-06T10:05:03.377375",
     "status": "completed"
    },
    "tags": []
   },
   "source": [
    "## Bagging 방법 활용, ~DecisionTree"
   ]
  },
  {
   "cell_type": "code",
   "execution_count": 19,
   "metadata": {
    "execution": {
     "iopub.execute_input": "2021-02-06T10:05:03.438078Z",
     "iopub.status.busy": "2021-02-06T10:05:03.437442Z",
     "iopub.status.idle": "2021-02-06T10:06:03.794450Z",
     "shell.execute_reply": "2021-02-06T10:06:03.793282Z"
    },
    "papermill": {
     "duration": 60.378899,
     "end_time": "2021-02-06T10:06:03.794636",
     "exception": false,
     "start_time": "2021-02-06T10:05:03.415737",
     "status": "completed"
    },
    "tags": []
   },
   "outputs": [],
   "source": [
    "from sklearn.ensemble import BaggingClassifier\n",
    "from sklearn.model_selection import GridSearchCV\n",
    "from sklearn.tree import DecisionTreeClassifier\n",
    "\n",
    "\n",
    "params = [{'max_leaf_nodes': list(range(2, 100)), 'min_samples_split': [2, 3, 4]}]\n",
    "b_clf=BaggingClassifier(GridSearchCV(DecisionTreeClassifier(random_state=42),params,cv=3,verbose=1),n_estimators=100,max_samples=100,bootstrap=True,n_jobs=-1)\n",
    "b_clf.fit(x_train_scaled,y_train)\n",
    "\n",
    "\n",
    "y_pred=b_clf.predict(x_test_scaled)\n",
    "\n",
    "# estimator 100회, 500회, 1000회 로 돌려봤으나 의미 없었음."
   ]
  },
  {
   "cell_type": "code",
   "execution_count": 20,
   "metadata": {
    "execution": {
     "iopub.execute_input": "2021-02-06T10:06:03.844939Z",
     "iopub.status.busy": "2021-02-06T10:06:03.843659Z",
     "iopub.status.idle": "2021-02-06T10:06:03.848801Z",
     "shell.execute_reply": "2021-02-06T10:06:03.848196Z"
    },
    "papermill": {
     "duration": 0.033768,
     "end_time": "2021-02-06T10:06:03.848953",
     "exception": false,
     "start_time": "2021-02-06T10:06:03.815185",
     "status": "completed"
    },
    "tags": []
   },
   "outputs": [],
   "source": [
    "pId = pd.DataFrame(test.PassengerId)\n",
    "surv = pd.DataFrame(y_pred, columns=['Survived'])\n",
    "y_submit = pd.concat([pId,surv], axis=1)\n",
    "\n",
    "y_submit\n",
    "\n",
    "y_submit.to_csv(\"New_Submission.csv\", index = False)\n",
    "\n",
    "# 제출본 확인."
   ]
  },
  {
   "cell_type": "code",
   "execution_count": null,
   "metadata": {
    "papermill": {
     "duration": 0.019439,
     "end_time": "2021-02-06T10:06:03.887859",
     "exception": false,
     "start_time": "2021-02-06T10:06:03.868420",
     "status": "completed"
    },
    "tags": []
   },
   "outputs": [],
   "source": []
  }
 ],
 "metadata": {
  "kernelspec": {
   "display_name": "Python 3",
   "language": "python",
   "name": "python3"
  },
  "language_info": {
   "codemirror_mode": {
    "name": "ipython",
    "version": 3
   },
   "file_extension": ".py",
   "mimetype": "text/x-python",
   "name": "python",
   "nbconvert_exporter": "python",
   "pygments_lexer": "ipython3",
   "version": "3.7.9"
  },
  "papermill": {
   "default_parameters": {},
   "duration": 68.996518,
   "end_time": "2021-02-06T10:06:04.819514",
   "environment_variables": {},
   "exception": null,
   "input_path": "__notebook__.ipynb",
   "output_path": "__notebook__.ipynb",
   "parameters": {},
   "start_time": "2021-02-06T10:04:55.822996",
   "version": "2.2.2"
  }
 },
 "nbformat": 4,
 "nbformat_minor": 4
}
