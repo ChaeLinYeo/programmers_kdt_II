{
  "nbformat": 4,
  "nbformat_minor": 0,
  "metadata": {
    "colab": {
      "name": "9주차_PySpark_기본_3일차_2.ipynb",
      "provenance": [],
      "collapsed_sections": []
    },
    "kernelspec": {
      "name": "python3",
      "display_name": "Python 3"
    }
  },
  "cells": [
    {
      "cell_type": "markdown",
      "metadata": {
        "id": "view-in-github"
      },
      "source": [
        "<a href=\"https://colab.research.google.com/github/learn-programmers/programmers_kdt_II/blob/main/9%EC%A3%BC%EC%B0%A8_PySpark_%EA%B8%B0%EB%B3%B8_3%EC%9D%BC%EC%B0%A8_2.ipynb\" target=\"_parent\"><img src=\"https://colab.research.google.com/assets/colab-badge.svg\" alt=\"Open In Colab\"/></a>"
      ]
    },
    {
      "cell_type": "markdown",
      "metadata": {
        "id": "xAqhTDfuWrcM"
      },
      "source": [
        "PySpark을 로컬머신에 설치하고 노트북을 사용하기 보다는 머신러닝 관련 다양한 라이브러리가 이미 설치되었고 좋은 하드웨어를 제공해주는 Google Colab을 통해 실습을 진행한다."
      ]
    },
    {
      "cell_type": "markdown",
      "metadata": {
        "id": "XIA23YgbXKJd"
      },
      "source": [
        "이를 위해 pyspark과 Py4J 패키지를 설치한다. Py4J 패키지는 파이썬 프로그램이 자바가상머신상의 오브젝트들을 접근할 수 있게 해준다. Local Standalone Spark을 사용한다."
      ]
    },
    {
      "cell_type": "code",
      "metadata": {
        "colab": {
          "base_uri": "https://localhost:8080/"
        },
        "id": "NbT0rpGfVdiq",
        "outputId": "6050164b-08e6-43f8-b3d3-563169ba816e"
      },
      "source": [
        "!pip install pyspark==3.0.1 py4j==0.10.9 "
      ],
      "execution_count": 1,
      "outputs": [
        {
          "output_type": "stream",
          "text": [
            "Collecting pyspark==3.0.1\n",
            "\u001b[?25l  Downloading https://files.pythonhosted.org/packages/f0/26/198fc8c0b98580f617cb03cb298c6056587b8f0447e20fa40c5b634ced77/pyspark-3.0.1.tar.gz (204.2MB)\n",
            "\u001b[K     |████████████████████████████████| 204.2MB 65kB/s \n",
            "\u001b[?25hCollecting py4j==0.10.9\n",
            "\u001b[?25l  Downloading https://files.pythonhosted.org/packages/9e/b6/6a4fb90cd235dc8e265a6a2067f2a2c99f0d91787f06aca4bcf7c23f3f80/py4j-0.10.9-py2.py3-none-any.whl (198kB)\n",
            "\u001b[K     |████████████████████████████████| 204kB 43.3MB/s \n",
            "\u001b[?25hBuilding wheels for collected packages: pyspark\n",
            "  Building wheel for pyspark (setup.py) ... \u001b[?25l\u001b[?25hdone\n",
            "  Created wheel for pyspark: filename=pyspark-3.0.1-py2.py3-none-any.whl size=204612242 sha256=0ee42e32413b5e1fa6653634c23c918d8652ba953ee9d4b41047acfa1832cc81\n",
            "  Stored in directory: /root/.cache/pip/wheels/5e/bd/07/031766ca628adec8435bb40f0bd83bb676ce65ff4007f8e73f\n",
            "Successfully built pyspark\n",
            "Installing collected packages: py4j, pyspark\n",
            "Successfully installed py4j-0.10.9 pyspark-3.0.1\n"
          ],
          "name": "stdout"
        }
      ]
    },
    {
      "cell_type": "markdown",
      "metadata": {
        "id": "1iHGbrRlA01u"
      },
      "source": [
        "지금부터 실습은 Redshift에 있는 데이터를 가지고 해볼 예정이고 그래서 Redshift 관련 JAR 파일을 설치해야함"
      ]
    },
    {
      "cell_type": "code",
      "metadata": {
        "colab": {
          "base_uri": "https://localhost:8080/"
        },
        "id": "OdTTZZqVA0Xa",
        "outputId": "a52940f4-8474-424c-a0f0-9cb34def4bf3"
      },
      "source": [
        "!cd /usr/local/lib/python3.6/dist-packages/pyspark/jars && wget https://s3.amazonaws.com/redshift-downloads/drivers/jdbc/1.2.20.1043/RedshiftJDBC42-no-awssdk-1.2.20.1043.jar"
      ],
      "execution_count": 2,
      "outputs": [
        {
          "output_type": "stream",
          "text": [
            "--2021-02-04 14:12:13--  https://s3.amazonaws.com/redshift-downloads/drivers/jdbc/1.2.20.1043/RedshiftJDBC42-no-awssdk-1.2.20.1043.jar\n",
            "Resolving s3.amazonaws.com (s3.amazonaws.com)... 52.216.243.110\n",
            "Connecting to s3.amazonaws.com (s3.amazonaws.com)|52.216.243.110|:443... connected.\n",
            "HTTP request sent, awaiting response... 200 OK\n",
            "Length: 2413910 (2.3M) [application/java-archive]\n",
            "Saving to: ‘RedshiftJDBC42-no-awssdk-1.2.20.1043.jar’\n",
            "\n",
            "RedshiftJDBC42-no-a 100%[===================>]   2.30M  5.24MB/s    in 0.4s    \n",
            "\n",
            "2021-02-04 14:12:13 (5.24 MB/s) - ‘RedshiftJDBC42-no-awssdk-1.2.20.1043.jar’ saved [2413910/2413910]\n",
            "\n"
          ],
          "name": "stdout"
        }
      ]
    },
    {
      "cell_type": "markdown",
      "metadata": {
        "id": "Ew_eTGrvXlDw"
      },
      "source": [
        "**Spark Session:** 이번 SparkSession은 spark.jars를 통해 앞서 다운로드받은 Redshift 연결을 위한 JDBC 드라이버를 사용함 (.config(\"spark.jars\", ...)"
      ]
    },
    {
      "cell_type": "code",
      "metadata": {
        "id": "3vm6tgcPXdnR"
      },
      "source": [
        "from pyspark.sql import SparkSession\n",
        "# config가 들어간 것 외에는 이전에 스파크 세션 만드는 것과 동일하다.\n",
        "\n",
        "spark = SparkSession \\\n",
        "    .builder \\\n",
        "    .appName(\"Python Spark SQL basic example\") \\\n",
        "    .config(\"spark.jars\", \"/usr/local/lib/python3.6/dist-packages/pyspark/jars/RedshiftJDBC42-no-awssdk-1.2.20.1043.jar\") \\\n",
        "    .getOrCreate()"
      ],
      "execution_count": 3,
      "outputs": []
    },
    {
      "cell_type": "code",
      "metadata": {
        "colab": {
          "base_uri": "https://localhost:8080/",
          "height": 222
        },
        "id": "LSs_1PYaYWxI",
        "outputId": "cc46a097-a12d-41d8-c283-603c7dbd7c87"
      },
      "source": [
        "spark"
      ],
      "execution_count": 4,
      "outputs": [
        {
          "output_type": "execute_result",
          "data": {
            "text/html": [
              "\n",
              "            <div>\n",
              "                <p><b>SparkSession - in-memory</b></p>\n",
              "                \n",
              "        <div>\n",
              "            <p><b>SparkContext</b></p>\n",
              "\n",
              "            <p><a href=\"http://ea51a1a169b7:4040\">Spark UI</a></p>\n",
              "\n",
              "            <dl>\n",
              "              <dt>Version</dt>\n",
              "                <dd><code>v3.0.1</code></dd>\n",
              "              <dt>Master</dt>\n",
              "                <dd><code>local[*]</code></dd>\n",
              "              <dt>AppName</dt>\n",
              "                <dd><code>Python Spark SQL basic example</code></dd>\n",
              "            </dl>\n",
              "        </div>\n",
              "        \n",
              "            </div>\n",
              "        "
            ],
            "text/plain": [
              "<pyspark.sql.session.SparkSession at 0x7fde3bbbac18>"
            ]
          },
          "metadata": {
            "tags": []
          },
          "execution_count": 4
        }
      ]
    },
    {
      "cell_type": "markdown",
      "metadata": {
        "id": "H7Wl1fgP--_n"
      },
      "source": [
        "# **SparkSQL 맛보기**"
      ]
    },
    {
      "cell_type": "markdown",
      "metadata": {
        "id": "XSqSK6-T3SlS"
      },
      "source": [
        "판다스로 일단 CSV 파일 하나 로드하기"
      ]
    },
    {
      "cell_type": "code",
      "metadata": {
        "id": "MlppT68QCorD"
      },
      "source": [
        "import pandas as pd\n",
        "\n",
        "namegender_pd = pd.read_csv(\"https://s3-geospatial.s3-us-west-2.amazonaws.com/name_gender.csv\")"
      ],
      "execution_count": 5,
      "outputs": []
    },
    {
      "cell_type": "code",
      "metadata": {
        "colab": {
          "base_uri": "https://localhost:8080/",
          "height": 202
        },
        "id": "21mud2c_CpoT",
        "outputId": "788ee9ac-075c-44c9-b1c2-ab5eae6c5784"
      },
      "source": [
        "namegender_pd.head() # 파일에 뭐가 있는지 레코드를 살펴보기\n",
        "# 어떤 이름은 여자가 쓰고, 어떤 이름은 남자가 쓰고, 어떤 이름은 남녀 상관없이 쓰는지"
      ],
      "execution_count": 6,
      "outputs": [
        {
          "output_type": "execute_result",
          "data": {
            "text/html": [
              "<div>\n",
              "<style scoped>\n",
              "    .dataframe tbody tr th:only-of-type {\n",
              "        vertical-align: middle;\n",
              "    }\n",
              "\n",
              "    .dataframe tbody tr th {\n",
              "        vertical-align: top;\n",
              "    }\n",
              "\n",
              "    .dataframe thead th {\n",
              "        text-align: right;\n",
              "    }\n",
              "</style>\n",
              "<table border=\"1\" class=\"dataframe\">\n",
              "  <thead>\n",
              "    <tr style=\"text-align: right;\">\n",
              "      <th></th>\n",
              "      <th>name</th>\n",
              "      <th>gender</th>\n",
              "    </tr>\n",
              "  </thead>\n",
              "  <tbody>\n",
              "    <tr>\n",
              "      <th>0</th>\n",
              "      <td>Adaleigh</td>\n",
              "      <td>F</td>\n",
              "    </tr>\n",
              "    <tr>\n",
              "      <th>1</th>\n",
              "      <td>Amryn</td>\n",
              "      <td>Unisex</td>\n",
              "    </tr>\n",
              "    <tr>\n",
              "      <th>2</th>\n",
              "      <td>Apurva</td>\n",
              "      <td>Unisex</td>\n",
              "    </tr>\n",
              "    <tr>\n",
              "      <th>3</th>\n",
              "      <td>Aryion</td>\n",
              "      <td>M</td>\n",
              "    </tr>\n",
              "    <tr>\n",
              "      <th>4</th>\n",
              "      <td>Alixia</td>\n",
              "      <td>F</td>\n",
              "    </tr>\n",
              "  </tbody>\n",
              "</table>\n",
              "</div>"
            ],
            "text/plain": [
              "       name  gender\n",
              "0  Adaleigh       F\n",
              "1     Amryn  Unisex\n",
              "2    Apurva  Unisex\n",
              "3    Aryion       M\n",
              "4    Alixia       F"
            ]
          },
          "metadata": {
            "tags": []
          },
          "execution_count": 6
        }
      ]
    },
    {
      "cell_type": "code",
      "metadata": {
        "colab": {
          "base_uri": "https://localhost:8080/",
          "height": 172
        },
        "id": "hGF0RDpI1nFk",
        "outputId": "80675f14-c5b6-40d4-dd34-6cb8a6995700"
      },
      "source": [
        "namegender_pd.groupby([\"gender\"]).count() # 성별 별로 이름 카운트"
      ],
      "execution_count": 7,
      "outputs": [
        {
          "output_type": "execute_result",
          "data": {
            "text/html": [
              "<div>\n",
              "<style scoped>\n",
              "    .dataframe tbody tr th:only-of-type {\n",
              "        vertical-align: middle;\n",
              "    }\n",
              "\n",
              "    .dataframe tbody tr th {\n",
              "        vertical-align: top;\n",
              "    }\n",
              "\n",
              "    .dataframe thead th {\n",
              "        text-align: right;\n",
              "    }\n",
              "</style>\n",
              "<table border=\"1\" class=\"dataframe\">\n",
              "  <thead>\n",
              "    <tr style=\"text-align: right;\">\n",
              "      <th></th>\n",
              "      <th>name</th>\n",
              "    </tr>\n",
              "    <tr>\n",
              "      <th>gender</th>\n",
              "      <th></th>\n",
              "    </tr>\n",
              "  </thead>\n",
              "  <tbody>\n",
              "    <tr>\n",
              "      <th>F</th>\n",
              "      <td>65</td>\n",
              "    </tr>\n",
              "    <tr>\n",
              "      <th>M</th>\n",
              "      <td>28</td>\n",
              "    </tr>\n",
              "    <tr>\n",
              "      <th>Unisex</th>\n",
              "      <td>7</td>\n",
              "    </tr>\n",
              "  </tbody>\n",
              "</table>\n",
              "</div>"
            ],
            "text/plain": [
              "        name\n",
              "gender      \n",
              "F         65\n",
              "M         28\n",
              "Unisex     7"
            ]
          },
          "metadata": {
            "tags": []
          },
          "execution_count": 7
        }
      ]
    },
    {
      "cell_type": "markdown",
      "metadata": {
        "id": "6YpBBzy11wwV"
      },
      "source": [
        "판다스 데이터프레임을 Spark 데이터프레임으로 변환하기"
      ]
    },
    {
      "cell_type": "code",
      "metadata": {
        "id": "eBXgab2KCsUV"
      },
      "source": [
        "# 이를 spark위의 rdd나 데이터프레임으로 사용하기 위해 변환.\n",
        "# 판다스 데이터프레임이 스파크 데이터프레임으로 바뀜.\n",
        "namegender_df = spark.createDataFrame(namegender_pd)"
      ],
      "execution_count": 8,
      "outputs": []
    },
    {
      "cell_type": "code",
      "metadata": {
        "colab": {
          "base_uri": "https://localhost:8080/"
        },
        "id": "oUlABaYtCvKC",
        "outputId": "cbac19a5-095a-4284-b117-9763d4f7a7cd"
      },
      "source": [
        "namegender_df.printSchema() # 스키마(구조) 출력\n",
        "# 스파크 데이터 프레임으로 바뀌면서 두개의 필드를 갖는 데이터로 바뀜(이름, 성별)"
      ],
      "execution_count": 10,
      "outputs": [
        {
          "output_type": "stream",
          "text": [
            "root\n",
            " |-- name: string (nullable = true)\n",
            " |-- gender: string (nullable = true)\n",
            "\n"
          ],
          "name": "stdout"
        }
      ]
    },
    {
      "cell_type": "code",
      "metadata": {
        "colab": {
          "base_uri": "https://localhost:8080/"
        },
        "id": "U9oPMiJRCy4R",
        "outputId": "a0485184-b5c9-447a-ced9-67c1be5a14a5"
      },
      "source": [
        "namegender_df.show() # 스파크 데이터프레임으로 바뀐 레코드들을 출력해보자.\n",
        "# 이 뒷단에서는 데이터를 collect한 뒤 보여주고 있다.\n",
        "# 스파크 데이터프레임은 로컬 환경이 아닌 스파크 클러스터 위에 있다.\n",
        "# 따라서 파이썬 드라이버로 끌어온 뒤 보여줘야 하기 때문에, 뒤에서 collect한 뒤 show가 되고 있는 것.\n"
      ],
      "execution_count": 12,
      "outputs": [
        {
          "output_type": "stream",
          "text": [
            "+----------+------+\n",
            "|      name|gender|\n",
            "+----------+------+\n",
            "|  Adaleigh|     F|\n",
            "|     Amryn|Unisex|\n",
            "|    Apurva|Unisex|\n",
            "|    Aryion|     M|\n",
            "|    Alixia|     F|\n",
            "|Alyssarose|     F|\n",
            "|    Arvell|     M|\n",
            "|     Aibel|     M|\n",
            "|   Atiyyah|     F|\n",
            "|     Adlie|     F|\n",
            "|    Anyely|     F|\n",
            "|    Aamoni|     F|\n",
            "|     Ahman|     M|\n",
            "|    Arlane|     F|\n",
            "|   Armoney|     F|\n",
            "|   Atzhiry|     F|\n",
            "| Antonette|     F|\n",
            "|   Akeelah|     F|\n",
            "| Abdikadir|     M|\n",
            "|    Arinze|     M|\n",
            "+----------+------+\n",
            "only showing top 20 rows\n",
            "\n"
          ],
          "name": "stdout"
        }
      ]
    },
    {
      "cell_type": "code",
      "metadata": {
        "colab": {
          "base_uri": "https://localhost:8080/"
        },
        "id": "bt432nZD13md",
        "outputId": "2863d72d-7160-49be-eadc-9407c6b790a6"
      },
      "source": [
        "# namegender_df는 스파크 데이터프레임이다.\n",
        "# 스파크 데이터프레임의 연산을 써서 성별에 따라 몇개의 이름이 있는지 카운트해보자.\n",
        "# namegender_df.groupBy([\"gender\"]).count()라고만 하면 새로운 데이터 프레임이 만들어질 뿐, 스파크 클러스터에 있어 로컬에서 보이지 않는다.\n",
        "# 로컬에서 보이게 하려면 .collect()를 붙여 로컬의 파이썬 환경으로 불러와야 한다.\n",
        "namegender_df.groupBy([\"gender\"]).count().collect()"
      ],
      "execution_count": 11,
      "outputs": [
        {
          "output_type": "execute_result",
          "data": {
            "text/plain": [
              "[Row(gender='F', count=65),\n",
              " Row(gender='M', count=28),\n",
              " Row(gender='Unisex', count=7)]"
            ]
          },
          "metadata": {
            "tags": []
          },
          "execution_count": 11
        }
      ]
    },
    {
      "cell_type": "code",
      "metadata": {
        "id": "Dj4z2JTS-ykt"
      },
      "source": [
        "# https://towardsdatascience.com/pyspark-and-sparksql-basics-6cb4bf967e53"
      ],
      "execution_count": null,
      "outputs": []
    },
    {
      "cell_type": "markdown",
      "metadata": {
        "id": "PJmaTT5619bl"
      },
      "source": [
        "데이터프레임을 테이블뷰로 만들어서 SparkSQL로 처리해보기"
      ]
    },
    {
      "cell_type": "code",
      "metadata": {
        "id": "wCHeqrAW6n-E"
      },
      "source": [
        "# 데이터프레임에 테이블 이름을 준뒤 스파크sql로 처리해보자.\n",
        "# namegender_df라는 스파크 데이터 프레임을 namegender라는 이름의 테이블로 엑세스할 수 있게 한다.\n",
        "namegender_df.createOrReplaceTempView(\"namegender\")"
      ],
      "execution_count": 13,
      "outputs": []
    },
    {
      "cell_type": "code",
      "metadata": {
        "id": "ghlHnLJv-Xie"
      },
      "source": [
        "# spark.sql을 통해 다양한 sql문을 실행할 수 있다.\n",
        "# GROUP BY 1이므로 SELECT뒤의 첫번째 필드인 gender를 기준으로 레코드들을 그룹핑 한 뒤,\n",
        "# 동일한 값을 갖는 그룹 내의 레코드들을 카운트한다.\n",
        "# 그 결과가 새로운 스파크 데이터 프레임인 namegender_group_df로 만들어진다.\n",
        "namegender_group_df = spark.sql(\"SELECT gender, count(1) FROM namegender GROUP BY 1\")"
      ],
      "execution_count": 14,
      "outputs": []
    },
    {
      "cell_type": "code",
      "metadata": {
        "colab": {
          "base_uri": "https://localhost:8080/"
        },
        "id": "LbbfGZHP-y4w",
        "outputId": "2dc5c96c-ca4f-4c5a-e372-1aa7478bc0cb"
      },
      "source": [
        "# 위의 결과를 collect로 파이썬 환경으로 받아와서 프린트한다.\n",
        "# namegender_df.groupBy([\"gender\"]).count().collect()의 결과와 동일하다.\n",
        "namegender_group_df.collect()"
      ],
      "execution_count": 15,
      "outputs": [
        {
          "output_type": "execute_result",
          "data": {
            "text/plain": [
              "[Row(gender='F', count(1)=65),\n",
              " Row(gender='M', count(1)=28),\n",
              " Row(gender='Unisex', count(1)=7)]"
            ]
          },
          "metadata": {
            "tags": []
          },
          "execution_count": 15
        }
      ]
    },
    {
      "cell_type": "markdown",
      "metadata": {
        "id": "_vqm-DsuH_hO"
      },
      "source": [
        "Redshift와 연결해서 테이블들을 데이터프레임으로 로딩하기"
      ]
    },
    {
      "cell_type": "code",
      "metadata": {
        "id": "EEaNuN3xKNXm"
      },
      "source": [
        "# Redshift와 연결해서 테이블들을 데이터프레임으로 로딩하고\n",
        "# 그 데이터프레임들에게 테이블이름을 줘서 스파크 sql로 처리해볼 것이다.\n",
        "# raw_data.user_session_channel 테이블을 df_user_session_channel라는 데이터프레임으로 스파크에서 로딩한다.\n",
        "# 엑세스할때 유저아이디, 패스워드, 필요한 드라이버 쓰는것 필수!\n",
        "# 드라이버는 앞에서 지정한 jar 파일 안에 들어가있다.\n",
        "df_user_session_channel = spark.read \\\n",
        "    .format(\"jdbc\") \\\n",
        "    .option(\"driver\", \"com.amazon.redshift.jdbc42.Driver\") \\\n",
        "    .option(\"url\", \"jdbc:redshift://learnde.cduaw970ssvt.ap-northeast-2.redshift.amazonaws.com:5439/prod?user=guest&password=Guest1!*\") \\\n",
        "    .option(\"dbtable\", \"raw_data.user_session_channel\") \\\n",
        "    .load()"
      ],
      "execution_count": 16,
      "outputs": []
    },
    {
      "cell_type": "code",
      "metadata": {
        "id": "IQlBPcO_INv9"
      },
      "source": [
        "# raw_data.session_timestamp라는 RedShift의 테이블을 df_session_timestamp라는 데이터프레임으로 받아온다.\n",
        "# 엑세스할때 유저아이디, 패스워드, 필요한 드라이버 쓰는것 필수!\n",
        "# 드라이버는 앞에서 지정한 jar 파일 안에 들어가있다.\n",
        "df_session_timestamp = spark.read \\\n",
        "    .format(\"jdbc\") \\\n",
        "    .option(\"driver\", \"com.amazon.redshift.jdbc42.Driver\") \\\n",
        "    .option(\"url\", \"jdbc:redshift://learnde.cduaw970ssvt.ap-northeast-2.redshift.amazonaws.com:5439/prod?user=guest&password=Guest1!*\") \\\n",
        "    .option(\"dbtable\", \"raw_data.session_timestamp\") \\\n",
        "    .load()"
      ],
      "execution_count": 17,
      "outputs": []
    },
    {
      "cell_type": "code",
      "metadata": {
        "id": "cb87SiYQ3lX8"
      },
      "source": [
        "# df_user_session_channel 데이터 프레임은 앞으로 spark sql에서 \n",
        "# user_session_channe라는 이름으로 지칭한다.\n",
        "df_user_session_channel.createOrReplaceTempView(\"user_session_channel\")"
      ],
      "execution_count": 18,
      "outputs": []
    },
    {
      "cell_type": "code",
      "metadata": {
        "id": "LFMFrRpP3sP6"
      },
      "source": [
        "# df_session_timestamp 데이터 프레임은 앞으로 spark sql에서 \n",
        "# session_timestamp라는 이름으로 지칭한다.\n",
        "df_session_timestamp.createOrReplaceTempView(\"session_timestamp\")"
      ],
      "execution_count": 19,
      "outputs": []
    },
    {
      "cell_type": "code",
      "metadata": {
        "id": "GdiSxs1030G0"
      },
      "source": [
        "# sql만 써서 데이터 프로세싱을 할 수 있다.\n",
        "# 두개의 테이블을 inner join해서 sessionID필드로 매칭한다.\n",
        "# 두 테이블에 sessionID가 매칭이 되는 것들만 리턴이 된다.\n",
        "# 채널로 그룹핑을 한 뒤, 같은 채널 안의 레코드 중 userId의 값이 다른 것들만 리턴한다.\n",
        "# 결과적으로 채널별로 유니크한 사용자 수가 카운트 되고, ORDER BY 1에 의해\n",
        "# 채널의 오름차순 순으로 select된 레코드들을 보여준다.\n",
        "# 이것이 새로운 데이터 프레임 channel_count_df이 된다.\n",
        "# count(distinct userID)뒤에 uniqueUsers를 붙임으로써 필드의 이름을 지정할 수 있다.\n",
        "channel_count_df = spark.sql(\"\"\"\n",
        "    SELECT channel, count(distinct userId) uniqueUsers\n",
        "    FROM session_timestamp st\n",
        "    JOIN user_session_channel usc ON st.sessionID = usc.sessionID\n",
        "    GROUP BY 1\n",
        "    ORDER BY 1\n",
        "\"\"\")"
      ],
      "execution_count": 20,
      "outputs": []
    },
    {
      "cell_type": "code",
      "metadata": {
        "colab": {
          "base_uri": "https://localhost:8080/"
        },
        "id": "z1C5HKcd61_j",
        "outputId": "2c7e18e9-17c4-46ae-fe9c-df4cd6b3f915"
      },
      "source": [
        "channel_count_df # 스파크 클러스터 위에 있기 때문에 아직 별다른 정보가 없다.\n",
        "# 두개의 필드가 있음을 알 수 있다."
      ],
      "execution_count": 22,
      "outputs": [
        {
          "output_type": "execute_result",
          "data": {
            "text/plain": [
              "DataFrame[channel: string, uniqueUsers: bigint]"
            ]
          },
          "metadata": {
            "tags": []
          },
          "execution_count": 22
        }
      ]
    },
    {
      "cell_type": "code",
      "metadata": {
        "colab": {
          "base_uri": "https://localhost:8080/"
        },
        "id": "whIte26D63hG",
        "outputId": "69831f08-237d-4327-a9bb-d141d984cbca"
      },
      "source": [
        "channel_count_df.show() \n",
        "# channel_count_df에 어떤 내용들이 있는지 본다.\n",
        "# 스파크는 lazy exacution이다. \n",
        "# 데이터 프레임으로 최종적으로 뭘 하기 전까지 스파크는 앞의 sql구문들을 실행하지 않는다.\n",
        "# 따라서 이 .show()를 할 때 비로소 앞의 것들을 실행하기 때문에 좀 오래걸린다.\n",
        "# show를 쓰면 뒷단에서 데이터프레임을 collect라는 함수로 결과를 파이썬 드라이버 프로그램 단으로 끌어온다.\n"
      ],
      "execution_count": 23,
      "outputs": [
        {
          "output_type": "stream",
          "text": [
            "+---------+-----------+\n",
            "|  channel|uniqueUsers|\n",
            "+---------+-----------+\n",
            "| Facebook|        889|\n",
            "|   Google|        893|\n",
            "|Instagram|        895|\n",
            "|    Naver|        882|\n",
            "|  Organic|        895|\n",
            "|  Youtube|        889|\n",
            "+---------+-----------+\n",
            "\n"
          ],
          "name": "stdout"
        }
      ]
    },
    {
      "cell_type": "code",
      "metadata": {
        "id": "vE8iL4vy6705"
      },
      "source": [
        "# like로 대소문자 구별해 문자 매칭\n",
        "# user_session_channel 테이블의 레코드들을 읽어오는데\n",
        "# 채널 이름에 소문자 o가 있는 것만 카운트한다.\n",
        "# 이것을 channel_with_o_count_df라는 데이터프레임으로 저장한다.\n",
        "channel_with_o_count_df = spark.sql(\"\"\"\n",
        "    SELECT COUNT(1)\n",
        "    FROM user_session_channel\n",
        "    WHERE channel like '%o%'\n",
        "\"\"\")"
      ],
      "execution_count": 24,
      "outputs": []
    },
    {
      "cell_type": "code",
      "metadata": {
        "colab": {
          "base_uri": "https://localhost:8080/"
        },
        "id": "QU44opcvDE54",
        "outputId": "b7de4c6b-1a7f-47ba-c632-e702df67f0eb"
      },
      "source": [
        "# show를 할 수도 있지만 collect로 한번 불러보자.\n",
        "# 채널 이름에 o가 들어가는 레코드는 50864개임을 알 수 있다.\n",
        "channel_with_o_count_df.collect()"
      ],
      "execution_count": 25,
      "outputs": [
        {
          "output_type": "execute_result",
          "data": {
            "text/plain": [
              "[Row(count(1)=50864)]"
            ]
          },
          "metadata": {
            "tags": []
          },
          "execution_count": 25
        }
      ]
    },
    {
      "cell_type": "markdown",
      "metadata": {
        "id": "epJw55gZjIB2"
      },
      "source": [
        "지금까지 spark에서 데이터 조작하는 방법으로 \n",
        "1. spark 상의 데이터 프레임으로 바꾼 뒤 데이터 프레임에 다양한 함수들을(count등) 적용하는 것.\n",
        "2. spark sql을 이용해 처리하는 것.(테이블을 만들어서)\n",
        "데이터 조작에 최적화된 sql을 사용하는 2번이 더 좋다. "
      ]
    },
    {
      "cell_type": "code",
      "metadata": {
        "id": "MpOoeurPidwm"
      },
      "source": [
        ""
      ],
      "execution_count": null,
      "outputs": []
    }
  ]
}